{
 "cells": [
  {
   "cell_type": "code",
   "execution_count": 3,
   "metadata": {},
   "outputs": [
    {
     "name": "stdout",
     "output_type": "stream",
     "text": [
      "The autoreload extension is already loaded. To reload it, use:\n",
      "  %reload_ext autoreload\n"
     ]
    }
   ],
   "source": [
    "%load_ext autoreload\n",
    "%autoreload 2"
   ]
  },
  {
   "cell_type": "code",
   "execution_count": 4,
   "metadata": {},
   "outputs": [],
   "source": [
    "import numpy as np\n",
    "import matplotlib.pyplot as plt\n",
    "import gpflow\n",
    "import gpflow.multioutput.kernels as mk\n",
    "import gpflow.multioutput.features as mf\n",
    "from MixtureSVGP import MixtureSVGP, generate_updates\n",
    "import pickle\n",
    "import sys\n",
    "from actions import train_mixsvgp\n",
    "from Assignments import Assignments, DPAssignments, GlobalAssignments"
   ]
  },
  {
   "cell_type": "code",
   "execution_count": 6,
   "metadata": {},
   "outputs": [],
   "source": [
    "np.random.seed(0)\n",
    "\n",
    "K = 2\n",
    "L = 20\n",
    "global_trajectories = False\n",
    "save_path = './output/K2_L10'\n",
    "\n",
    "n_iter = 200\n",
    "minibatch_size = 5000\n",
    "\n",
    "\n",
    "###############\n",
    "# Make models #\n",
    "###############\n",
    "x, y, X, Y, weight_idx = pickle.load(\n",
    "    open('data/ipsc_data_pickle', 'rb'))\n",
    "\n",
    "assert(np.allclose(y[~np.isnan(y)] - Y.flatten(), 0))\n",
    "\n",
    "T, N, G = y.shape\n",
    "num_genes = G\n",
    "\n",
    "x = x[:, :, :num_genes]\n",
    "y = y[:, :, :num_genes]\n",
    "mask = ~np.isnan(y)\n",
    "\n",
    "Y = y[mask][:, None]\n",
    "X = x[mask][:, None]\n",
    "weight_idx = np.tile(np.arange(N*G).reshape(N, G)[None], (T, 1, 1))[mask]\n",
    "\n",
    "\n",
    "# gp objects\n",
    "if global_trajectories:\n",
    "    num_clusters = K * L + L\n",
    "else:\n",
    "    num_clusters = K * L\n",
    "\n",
    "kernel = mk.SharedIndependentMok(gpflow.kernels.RBF(1), num_clusters)\n",
    "feature = mf.SharedIndependentMof(\n",
    "    gpflow.features.InducingPoints(np.arange(T).astype(\n",
    "        np.float64).reshape(-1, 1)))\n",
    "likelihood = gpflow.likelihoods.Gaussian()\n",
    "\n",
    "# model -- for hyperparameter learning\n",
    "with gpflow.defer_build():\n",
    "    m = MixtureSVGP(X, Y, weight_idx,\n",
    "                    kern=kernel,\n",
    "                    num_latent=num_clusters, num_data=X.shape[0],\n",
    "                    likelihood=likelihood,\n",
    "                    feat=feature, minibatch_size=minibatch_size)\n",
    "\n",
    "    # only train hyperparams\n",
    "    for param in m.parameters:\n",
    "        param.trainable = False\n",
    "\n",
    "# mean model -- for trajectory learning\n",
    "# data are dummies, they'll be swapped out, just make correct shape\n",
    "XB = np.arange(np.unique(X).size)[:, None].astype(np.float64)\n",
    "YB = np.random.random([XB.shape[0], num_clusters]).astype(np.float64)\n",
    "\n",
    "# put in model, weight_idx just arange because each observation unique\n",
    "with gpflow.defer_build():\n",
    "    m_bar = MixtureSVGP(XB, YB, np.arange(XB.size),\n",
    "                        kern=kernel,\n",
    "                        num_latent=num_clusters, num_data=XB.shape[0],\n",
    "                        likelihood=likelihood,\n",
    "                        feat=feature, minibatch_size=None)\n",
    "\n",
    "    # fix all parameters except inducing outputs\n",
    "    for param in m_bar.parameters:\n",
    "        param.trainable = False\n",
    "\n",
    "    m_bar.q_mu.trainable = True\n",
    "    m_bar.q_sqrt.trainable = True\n",
    "\n",
    "m.q_mu = m_bar.q_mu\n",
    "m.q_sqrt = m_bar.q_sqrt\n",
    "\n",
    "# compile models\n",
    "m.compile()\n",
    "m_bar.compile()\n",
    "\n",
    "compute_weights, update_assignments = generate_updates(\n",
    "    N, G, K, L, T, global_trajectories)\n",
    "\n",
    "pi = np.ones(K) / K\n",
    "psi = np.ones(L) / L\n",
    "alpha = 0.1\n",
    "rho = np.array([alpha, 1-alpha])\n",
    "\n",
    "assignments = Assignments(pi, psi, rho, N, G, K, L, T)\n",
    "m.weights = assignments.compute_weights()"
   ]
  },
  {
   "cell_type": "code",
   "execution_count": null,
   "metadata": {
    "scrolled": true
   },
   "outputs": [
    {
     "name": "stdout",
     "output_type": "stream",
     "text": [
      "UPDATING TRAJECTORIES\n"
     ]
    },
    {
     "name": "stderr",
     "output_type": "stream",
     "text": [
      "/home/karl/anaconda3/lib/python3.6/site-packages/tensorflow/python/ops/gradients_impl.py:100: UserWarning: Converting sparse IndexedSlices to a dense Tensor of unknown shape. This may consume a large amount of memory.\n",
      "  \"Converting sparse IndexedSlices to a dense Tensor of unknown shape. \"\n"
     ]
    },
    {
     "name": "stdout",
     "output_type": "stream",
     "text": [
      "INFO:tensorflow:Optimization terminated with:\n",
      "  Message: b'CONVERGENCE: REL_REDUCTION_OF_F_<=_FACTR*EPSMCH'\n",
      "  Objective function value: 4456517.074850\n",
      "  Number of iterations: 43\n",
      "  Number of functions evaluations: 49\n"
     ]
    },
    {
     "name": "stderr",
     "output_type": "stream",
     "text": [
      "INFO:tensorflow:Optimization terminated with:\n",
      "  Message: b'CONVERGENCE: REL_REDUCTION_OF_F_<=_FACTR*EPSMCH'\n",
      "  Objective function value: 4456517.074850\n",
      "  Number of iterations: 43\n",
      "  Number of functions evaluations: 49\n"
     ]
    },
    {
     "name": "stdout",
     "output_type": "stream",
     "text": [
      "UPDATING HYPERPARAMETERS\n",
      "UPDATING ASSIGNMENTS\n",
      "2.97593355783109\n",
      "SAVING:  ../output/K2_L10\n",
      "UPDATING TRAJECTORIES\n",
      "INFO:tensorflow:Optimization terminated with:\n",
      "  Message: b'CONVERGENCE: REL_REDUCTION_OF_F_<=_FACTR*EPSMCH'\n",
      "  Objective function value: 4403082.511455\n",
      "  Number of iterations: 28\n",
      "  Number of functions evaluations: 30\n"
     ]
    },
    {
     "name": "stderr",
     "output_type": "stream",
     "text": [
      "INFO:tensorflow:Optimization terminated with:\n",
      "  Message: b'CONVERGENCE: REL_REDUCTION_OF_F_<=_FACTR*EPSMCH'\n",
      "  Objective function value: 4403082.511455\n",
      "  Number of iterations: 28\n",
      "  Number of functions evaluations: 30\n"
     ]
    },
    {
     "name": "stdout",
     "output_type": "stream",
     "text": [
      "UPDATING HYPERPARAMETERS\n",
      "UPDATING ASSIGNMENTS\n"
     ]
    },
    {
     "name": "stderr",
     "output_type": "stream",
     "text": [
      "/home/karl/Code/Research/ipsc_analysis/Assignments.py:368: RuntimeWarning: divide by zero encountered in log\n",
      "  return -1 * np.nansum(p * np.log(p))\n",
      "/home/karl/Code/Research/ipsc_analysis/Assignments.py:368: RuntimeWarning: invalid value encountered in multiply\n",
      "  return -1 * np.nansum(p * np.log(p))\n"
     ]
    },
    {
     "name": "stdout",
     "output_type": "stream",
     "text": [
      "4.88077406585294\n",
      "SAVING:  ../output/K2_L10\n",
      "UPDATING TRAJECTORIES\n",
      "INFO:tensorflow:Optimization terminated with:\n",
      "  Message: b'CONVERGENCE: REL_REDUCTION_OF_F_<=_FACTR*EPSMCH'\n",
      "  Objective function value: 4390345.862770\n",
      "  Number of iterations: 191\n",
      "  Number of functions evaluations: 196\n"
     ]
    },
    {
     "name": "stderr",
     "output_type": "stream",
     "text": [
      "INFO:tensorflow:Optimization terminated with:\n",
      "  Message: b'CONVERGENCE: REL_REDUCTION_OF_F_<=_FACTR*EPSMCH'\n",
      "  Objective function value: 4390345.862770\n",
      "  Number of iterations: 191\n",
      "  Number of functions evaluations: 196\n"
     ]
    },
    {
     "name": "stdout",
     "output_type": "stream",
     "text": [
      "UPDATING HYPERPARAMETERS\n",
      "UPDATING ASSIGNMENTS\n",
      "73.84087427645687\n",
      "SAVING:  ../output/K2_L10\n",
      "UPDATING TRAJECTORIES\n",
      "INFO:tensorflow:Optimization terminated with:\n",
      "  Message: b'CONVERGENCE: REL_REDUCTION_OF_F_<=_FACTR*EPSMCH'\n",
      "  Objective function value: 3873709.064487\n",
      "  Number of iterations: 185\n",
      "  Number of functions evaluations: 190\n"
     ]
    },
    {
     "name": "stderr",
     "output_type": "stream",
     "text": [
      "INFO:tensorflow:Optimization terminated with:\n",
      "  Message: b'CONVERGENCE: REL_REDUCTION_OF_F_<=_FACTR*EPSMCH'\n",
      "  Objective function value: 3873709.064487\n",
      "  Number of iterations: 185\n",
      "  Number of functions evaluations: 190\n"
     ]
    },
    {
     "name": "stdout",
     "output_type": "stream",
     "text": [
      "UPDATING HYPERPARAMETERS\n",
      "UPDATING ASSIGNMENTS\n",
      "35.668706912482506\n",
      "SAVING:  ../output/K2_L10\n",
      "UPDATING TRAJECTORIES\n",
      "INFO:tensorflow:Optimization terminated with:\n",
      "  Message: b'CONVERGENCE: REL_REDUCTION_OF_F_<=_FACTR*EPSMCH'\n",
      "  Objective function value: 3713273.289576\n",
      "  Number of iterations: 135\n",
      "  Number of functions evaluations: 140\n"
     ]
    },
    {
     "name": "stderr",
     "output_type": "stream",
     "text": [
      "INFO:tensorflow:Optimization terminated with:\n",
      "  Message: b'CONVERGENCE: REL_REDUCTION_OF_F_<=_FACTR*EPSMCH'\n",
      "  Objective function value: 3713273.289576\n",
      "  Number of iterations: 135\n",
      "  Number of functions evaluations: 140\n"
     ]
    },
    {
     "name": "stdout",
     "output_type": "stream",
     "text": [
      "UPDATING HYPERPARAMETERS\n",
      "UPDATING ASSIGNMENTS\n",
      "8.246490414694943\n",
      "SAVING:  ../output/K2_L10\n",
      "UPDATING TRAJECTORIES\n",
      "INFO:tensorflow:Optimization terminated with:\n",
      "  Message: b'CONVERGENCE: REL_REDUCTION_OF_F_<=_FACTR*EPSMCH'\n",
      "  Objective function value: 3637792.709526\n",
      "  Number of iterations: 88\n",
      "  Number of functions evaluations: 90\n"
     ]
    },
    {
     "name": "stderr",
     "output_type": "stream",
     "text": [
      "INFO:tensorflow:Optimization terminated with:\n",
      "  Message: b'CONVERGENCE: REL_REDUCTION_OF_F_<=_FACTR*EPSMCH'\n",
      "  Objective function value: 3637792.709526\n",
      "  Number of iterations: 88\n",
      "  Number of functions evaluations: 90\n"
     ]
    },
    {
     "name": "stdout",
     "output_type": "stream",
     "text": [
      "UPDATING HYPERPARAMETERS\n",
      "UPDATING ASSIGNMENTS\n",
      "3.4150559340339806\n",
      "SAVING:  ../output/K2_L10\n",
      "UPDATING TRAJECTORIES\n",
      "INFO:tensorflow:Optimization terminated with:\n",
      "  Message: b'CONVERGENCE: REL_REDUCTION_OF_F_<=_FACTR*EPSMCH'\n",
      "  Objective function value: 3617002.602336\n",
      "  Number of iterations: 73\n",
      "  Number of functions evaluations: 75\n"
     ]
    },
    {
     "name": "stderr",
     "output_type": "stream",
     "text": [
      "INFO:tensorflow:Optimization terminated with:\n",
      "  Message: b'CONVERGENCE: REL_REDUCTION_OF_F_<=_FACTR*EPSMCH'\n",
      "  Objective function value: 3617002.602336\n",
      "  Number of iterations: 73\n",
      "  Number of functions evaluations: 75\n"
     ]
    },
    {
     "name": "stdout",
     "output_type": "stream",
     "text": [
      "UPDATING HYPERPARAMETERS\n",
      "UPDATING ASSIGNMENTS\n",
      "1.7495102342439526\n",
      "SAVING:  ../output/K2_L10\n",
      "UPDATING TRAJECTORIES\n",
      "INFO:tensorflow:Optimization terminated with:\n",
      "  Message: b'CONVERGENCE: REL_REDUCTION_OF_F_<=_FACTR*EPSMCH'\n",
      "  Objective function value: 3590113.591452\n",
      "  Number of iterations: 69\n",
      "  Number of functions evaluations: 72\n"
     ]
    },
    {
     "name": "stderr",
     "output_type": "stream",
     "text": [
      "INFO:tensorflow:Optimization terminated with:\n",
      "  Message: b'CONVERGENCE: REL_REDUCTION_OF_F_<=_FACTR*EPSMCH'\n",
      "  Objective function value: 3590113.591452\n",
      "  Number of iterations: 69\n",
      "  Number of functions evaluations: 72\n"
     ]
    },
    {
     "name": "stdout",
     "output_type": "stream",
     "text": [
      "UPDATING HYPERPARAMETERS\n",
      "UPDATING ASSIGNMENTS\n",
      "1.0795140300654746\n",
      "SAVING:  ../output/K2_L10\n",
      "UPDATING TRAJECTORIES\n",
      "INFO:tensorflow:Optimization terminated with:\n",
      "  Message: b'CONVERGENCE: REL_REDUCTION_OF_F_<=_FACTR*EPSMCH'\n",
      "  Objective function value: 3592539.244244\n",
      "  Number of iterations: 55\n",
      "  Number of functions evaluations: 60\n"
     ]
    },
    {
     "name": "stderr",
     "output_type": "stream",
     "text": [
      "INFO:tensorflow:Optimization terminated with:\n",
      "  Message: b'CONVERGENCE: REL_REDUCTION_OF_F_<=_FACTR*EPSMCH'\n",
      "  Objective function value: 3592539.244244\n",
      "  Number of iterations: 55\n",
      "  Number of functions evaluations: 60\n"
     ]
    },
    {
     "name": "stdout",
     "output_type": "stream",
     "text": [
      "UPDATING HYPERPARAMETERS\n",
      "UPDATING ASSIGNMENTS\n",
      "0.7642966997862801\n",
      "SAVING:  ../output/K2_L10\n",
      "UPDATING TRAJECTORIES\n",
      "INFO:tensorflow:Optimization terminated with:\n",
      "  Message: b'CONVERGENCE: REL_REDUCTION_OF_F_<=_FACTR*EPSMCH'\n",
      "  Objective function value: 3609105.869992\n",
      "  Number of iterations: 58\n",
      "  Number of functions evaluations: 62\n"
     ]
    },
    {
     "name": "stderr",
     "output_type": "stream",
     "text": [
      "INFO:tensorflow:Optimization terminated with:\n",
      "  Message: b'CONVERGENCE: REL_REDUCTION_OF_F_<=_FACTR*EPSMCH'\n",
      "  Objective function value: 3609105.869992\n",
      "  Number of iterations: 58\n",
      "  Number of functions evaluations: 62\n"
     ]
    },
    {
     "name": "stdout",
     "output_type": "stream",
     "text": [
      "UPDATING HYPERPARAMETERS\n",
      "UPDATING ASSIGNMENTS\n",
      "0.6258269434784199\n",
      "SAVING:  ../output/K2_L10\n",
      "UPDATING TRAJECTORIES\n",
      "INFO:tensorflow:Optimization terminated with:\n",
      "  Message: b'CONVERGENCE: REL_REDUCTION_OF_F_<=_FACTR*EPSMCH'\n",
      "  Objective function value: 3575775.508426\n",
      "  Number of iterations: 55\n",
      "  Number of functions evaluations: 59\n"
     ]
    },
    {
     "name": "stderr",
     "output_type": "stream",
     "text": [
      "INFO:tensorflow:Optimization terminated with:\n",
      "  Message: b'CONVERGENCE: REL_REDUCTION_OF_F_<=_FACTR*EPSMCH'\n",
      "  Objective function value: 3575775.508426\n",
      "  Number of iterations: 55\n",
      "  Number of functions evaluations: 59\n"
     ]
    },
    {
     "name": "stdout",
     "output_type": "stream",
     "text": [
      "UPDATING HYPERPARAMETERS\n",
      "UPDATING ASSIGNMENTS\n",
      "0.48745736359026015\n",
      "SAVING:  ../output/K2_L10\n",
      "UPDATING TRAJECTORIES\n",
      "INFO:tensorflow:Optimization terminated with:\n",
      "  Message: b'CONVERGENCE: REL_REDUCTION_OF_F_<=_FACTR*EPSMCH'\n",
      "  Objective function value: 3594668.018392\n",
      "  Number of iterations: 54\n",
      "  Number of functions evaluations: 56\n"
     ]
    },
    {
     "name": "stderr",
     "output_type": "stream",
     "text": [
      "INFO:tensorflow:Optimization terminated with:\n",
      "  Message: b'CONVERGENCE: REL_REDUCTION_OF_F_<=_FACTR*EPSMCH'\n",
      "  Objective function value: 3594668.018392\n",
      "  Number of iterations: 54\n",
      "  Number of functions evaluations: 56\n"
     ]
    },
    {
     "name": "stdout",
     "output_type": "stream",
     "text": [
      "UPDATING HYPERPARAMETERS\n",
      "UPDATING ASSIGNMENTS\n",
      "0.48936061078988335\n",
      "SAVING:  ../output/K2_L10\n",
      "UPDATING TRAJECTORIES\n",
      "INFO:tensorflow:Optimization terminated with:\n",
      "  Message: b'CONVERGENCE: REL_REDUCTION_OF_F_<=_FACTR*EPSMCH'\n",
      "  Objective function value: 3562560.183164\n",
      "  Number of iterations: 49\n",
      "  Number of functions evaluations: 54\n"
     ]
    },
    {
     "name": "stderr",
     "output_type": "stream",
     "text": [
      "INFO:tensorflow:Optimization terminated with:\n",
      "  Message: b'CONVERGENCE: REL_REDUCTION_OF_F_<=_FACTR*EPSMCH'\n",
      "  Objective function value: 3562560.183164\n",
      "  Number of iterations: 49\n",
      "  Number of functions evaluations: 54\n"
     ]
    },
    {
     "name": "stdout",
     "output_type": "stream",
     "text": [
      "UPDATING HYPERPARAMETERS\n",
      "UPDATING ASSIGNMENTS\n",
      "0.47490064446376185\n",
      "SAVING:  ../output/K2_L10\n",
      "UPDATING TRAJECTORIES\n",
      "INFO:tensorflow:Optimization terminated with:\n",
      "  Message: b'CONVERGENCE: REL_REDUCTION_OF_F_<=_FACTR*EPSMCH'\n",
      "  Objective function value: 3538350.600851\n",
      "  Number of iterations: 45\n",
      "  Number of functions evaluations: 48\n"
     ]
    },
    {
     "name": "stderr",
     "output_type": "stream",
     "text": [
      "INFO:tensorflow:Optimization terminated with:\n",
      "  Message: b'CONVERGENCE: REL_REDUCTION_OF_F_<=_FACTR*EPSMCH'\n",
      "  Objective function value: 3538350.600851\n",
      "  Number of iterations: 45\n",
      "  Number of functions evaluations: 48\n"
     ]
    },
    {
     "name": "stdout",
     "output_type": "stream",
     "text": [
      "UPDATING HYPERPARAMETERS\n",
      "UPDATING ASSIGNMENTS\n",
      "0.32310177257956996\n",
      "SAVING:  ../output/K2_L10\n",
      "UPDATING TRAJECTORIES\n",
      "INFO:tensorflow:Optimization terminated with:\n",
      "  Message: b'CONVERGENCE: REL_REDUCTION_OF_F_<=_FACTR*EPSMCH'\n",
      "  Objective function value: 3509179.557069\n",
      "  Number of iterations: 44\n",
      "  Number of functions evaluations: 47\n"
     ]
    },
    {
     "name": "stderr",
     "output_type": "stream",
     "text": [
      "INFO:tensorflow:Optimization terminated with:\n",
      "  Message: b'CONVERGENCE: REL_REDUCTION_OF_F_<=_FACTR*EPSMCH'\n",
      "  Objective function value: 3509179.557069\n",
      "  Number of iterations: 44\n",
      "  Number of functions evaluations: 47\n"
     ]
    },
    {
     "name": "stdout",
     "output_type": "stream",
     "text": [
      "UPDATING HYPERPARAMETERS\n",
      "UPDATING ASSIGNMENTS\n",
      "0.2358067006286932\n",
      "SAVING:  ../output/K2_L10\n",
      "UPDATING TRAJECTORIES\n",
      "INFO:tensorflow:Optimization terminated with:\n",
      "  Message: b'CONVERGENCE: REL_REDUCTION_OF_F_<=_FACTR*EPSMCH'\n",
      "  Objective function value: 3508244.755452\n",
      "  Number of iterations: 39\n",
      "  Number of functions evaluations: 42\n"
     ]
    },
    {
     "name": "stderr",
     "output_type": "stream",
     "text": [
      "INFO:tensorflow:Optimization terminated with:\n",
      "  Message: b'CONVERGENCE: REL_REDUCTION_OF_F_<=_FACTR*EPSMCH'\n",
      "  Objective function value: 3508244.755452\n",
      "  Number of iterations: 39\n",
      "  Number of functions evaluations: 42\n"
     ]
    },
    {
     "name": "stdout",
     "output_type": "stream",
     "text": [
      "UPDATING HYPERPARAMETERS\n",
      "UPDATING ASSIGNMENTS\n",
      "0.170648507925584\n",
      "SAVING:  ../output/K2_L10\n",
      "UPDATING TRAJECTORIES\n",
      "INFO:tensorflow:Optimization terminated with:\n",
      "  Message: b'CONVERGENCE: REL_REDUCTION_OF_F_<=_FACTR*EPSMCH'\n",
      "  Objective function value: 3516385.786869\n",
      "  Number of iterations: 42\n",
      "  Number of functions evaluations: 45\n"
     ]
    },
    {
     "name": "stderr",
     "output_type": "stream",
     "text": [
      "INFO:tensorflow:Optimization terminated with:\n",
      "  Message: b'CONVERGENCE: REL_REDUCTION_OF_F_<=_FACTR*EPSMCH'\n",
      "  Objective function value: 3516385.786869\n",
      "  Number of iterations: 42\n",
      "  Number of functions evaluations: 45\n"
     ]
    },
    {
     "name": "stdout",
     "output_type": "stream",
     "text": [
      "UPDATING HYPERPARAMETERS\n",
      "UPDATING ASSIGNMENTS\n",
      "0.16098779603140234\n",
      "SAVING:  ../output/K2_L10\n",
      "UPDATING TRAJECTORIES\n",
      "INFO:tensorflow:Optimization terminated with:\n",
      "  Message: b'CONVERGENCE: REL_REDUCTION_OF_F_<=_FACTR*EPSMCH'\n",
      "  Objective function value: 3478346.233570\n",
      "  Number of iterations: 44\n",
      "  Number of functions evaluations: 46\n"
     ]
    },
    {
     "name": "stderr",
     "output_type": "stream",
     "text": [
      "INFO:tensorflow:Optimization terminated with:\n",
      "  Message: b'CONVERGENCE: REL_REDUCTION_OF_F_<=_FACTR*EPSMCH'\n",
      "  Objective function value: 3478346.233570\n",
      "  Number of iterations: 44\n",
      "  Number of functions evaluations: 46\n"
     ]
    },
    {
     "name": "stdout",
     "output_type": "stream",
     "text": [
      "UPDATING HYPERPARAMETERS\n",
      "UPDATING ASSIGNMENTS\n",
      "0.14574281991284269\n",
      "SAVING:  ../output/K2_L10\n",
      "UPDATING TRAJECTORIES\n",
      "INFO:tensorflow:Optimization terminated with:\n",
      "  Message: b'CONVERGENCE: REL_REDUCTION_OF_F_<=_FACTR*EPSMCH'\n",
      "  Objective function value: 3462807.744416\n",
      "  Number of iterations: 39\n",
      "  Number of functions evaluations: 41\n"
     ]
    },
    {
     "name": "stderr",
     "output_type": "stream",
     "text": [
      "INFO:tensorflow:Optimization terminated with:\n",
      "  Message: b'CONVERGENCE: REL_REDUCTION_OF_F_<=_FACTR*EPSMCH'\n",
      "  Objective function value: 3462807.744416\n",
      "  Number of iterations: 39\n",
      "  Number of functions evaluations: 41\n"
     ]
    },
    {
     "name": "stdout",
     "output_type": "stream",
     "text": [
      "UPDATING HYPERPARAMETERS\n",
      "UPDATING ASSIGNMENTS\n",
      "0.13618045325806194\n",
      "SAVING:  ../output/K2_L10\n",
      "UPDATING TRAJECTORIES\n",
      "INFO:tensorflow:Optimization terminated with:\n",
      "  Message: b'CONVERGENCE: REL_REDUCTION_OF_F_<=_FACTR*EPSMCH'\n",
      "  Objective function value: 3453350.243084\n",
      "  Number of iterations: 36\n",
      "  Number of functions evaluations: 39\n"
     ]
    },
    {
     "name": "stderr",
     "output_type": "stream",
     "text": [
      "INFO:tensorflow:Optimization terminated with:\n",
      "  Message: b'CONVERGENCE: REL_REDUCTION_OF_F_<=_FACTR*EPSMCH'\n",
      "  Objective function value: 3453350.243084\n",
      "  Number of iterations: 36\n",
      "  Number of functions evaluations: 39\n"
     ]
    },
    {
     "name": "stdout",
     "output_type": "stream",
     "text": [
      "UPDATING HYPERPARAMETERS\n",
      "UPDATING ASSIGNMENTS\n",
      "0.11997899942274841\n",
      "SAVING:  ../output/K2_L10\n",
      "UPDATING TRAJECTORIES\n",
      "INFO:tensorflow:Optimization terminated with:\n",
      "  Message: b'CONVERGENCE: REL_REDUCTION_OF_F_<=_FACTR*EPSMCH'\n",
      "  Objective function value: 3443648.912424\n",
      "  Number of iterations: 37\n",
      "  Number of functions evaluations: 40\n"
     ]
    },
    {
     "name": "stderr",
     "output_type": "stream",
     "text": [
      "INFO:tensorflow:Optimization terminated with:\n",
      "  Message: b'CONVERGENCE: REL_REDUCTION_OF_F_<=_FACTR*EPSMCH'\n",
      "  Objective function value: 3443648.912424\n",
      "  Number of iterations: 37\n",
      "  Number of functions evaluations: 40\n"
     ]
    },
    {
     "name": "stdout",
     "output_type": "stream",
     "text": [
      "UPDATING HYPERPARAMETERS\n",
      "UPDATING ASSIGNMENTS\n",
      "0.08530467846032284\n",
      "SAVING:  ../output/K2_L10\n",
      "UPDATING TRAJECTORIES\n",
      "INFO:tensorflow:Optimization terminated with:\n",
      "  Message: b'CONVERGENCE: REL_REDUCTION_OF_F_<=_FACTR*EPSMCH'\n",
      "  Objective function value: 3457628.306214\n",
      "  Number of iterations: 35\n",
      "  Number of functions evaluations: 38\n"
     ]
    },
    {
     "name": "stderr",
     "output_type": "stream",
     "text": [
      "INFO:tensorflow:Optimization terminated with:\n",
      "  Message: b'CONVERGENCE: REL_REDUCTION_OF_F_<=_FACTR*EPSMCH'\n",
      "  Objective function value: 3457628.306214\n",
      "  Number of iterations: 35\n",
      "  Number of functions evaluations: 38\n"
     ]
    },
    {
     "name": "stdout",
     "output_type": "stream",
     "text": [
      "UPDATING HYPERPARAMETERS\n",
      "UPDATING ASSIGNMENTS\n",
      "0.07199827967403537\n",
      "SAVING:  ../output/K2_L10\n",
      "UPDATING TRAJECTORIES\n",
      "INFO:tensorflow:Optimization terminated with:\n",
      "  Message: b'CONVERGENCE: REL_REDUCTION_OF_F_<=_FACTR*EPSMCH'\n",
      "  Objective function value: 3455179.448438\n",
      "  Number of iterations: 35\n",
      "  Number of functions evaluations: 38\n"
     ]
    },
    {
     "name": "stderr",
     "output_type": "stream",
     "text": [
      "INFO:tensorflow:Optimization terminated with:\n",
      "  Message: b'CONVERGENCE: REL_REDUCTION_OF_F_<=_FACTR*EPSMCH'\n",
      "  Objective function value: 3455179.448438\n",
      "  Number of iterations: 35\n",
      "  Number of functions evaluations: 38\n"
     ]
    },
    {
     "name": "stdout",
     "output_type": "stream",
     "text": [
      "UPDATING HYPERPARAMETERS\n",
      "UPDATING ASSIGNMENTS\n",
      "0.06142616796718703\n",
      "SAVING:  ../output/K2_L10\n",
      "UPDATING TRAJECTORIES\n",
      "INFO:tensorflow:Optimization terminated with:\n",
      "  Message: b'CONVERGENCE: REL_REDUCTION_OF_F_<=_FACTR*EPSMCH'\n",
      "  Objective function value: 3453437.704479\n",
      "  Number of iterations: 37\n",
      "  Number of functions evaluations: 39\n"
     ]
    },
    {
     "name": "stderr",
     "output_type": "stream",
     "text": [
      "INFO:tensorflow:Optimization terminated with:\n",
      "  Message: b'CONVERGENCE: REL_REDUCTION_OF_F_<=_FACTR*EPSMCH'\n",
      "  Objective function value: 3453437.704479\n",
      "  Number of iterations: 37\n",
      "  Number of functions evaluations: 39\n"
     ]
    },
    {
     "name": "stdout",
     "output_type": "stream",
     "text": [
      "UPDATING HYPERPARAMETERS\n",
      "UPDATING ASSIGNMENTS\n",
      "0.059451906356448064\n",
      "SAVING:  ../output/K2_L10\n",
      "UPDATING TRAJECTORIES\n",
      "INFO:tensorflow:Optimization terminated with:\n",
      "  Message: b'CONVERGENCE: REL_REDUCTION_OF_F_<=_FACTR*EPSMCH'\n",
      "  Objective function value: 3464337.500937\n",
      "  Number of iterations: 35\n",
      "  Number of functions evaluations: 37\n"
     ]
    },
    {
     "name": "stderr",
     "output_type": "stream",
     "text": [
      "INFO:tensorflow:Optimization terminated with:\n",
      "  Message: b'CONVERGENCE: REL_REDUCTION_OF_F_<=_FACTR*EPSMCH'\n",
      "  Objective function value: 3464337.500937\n",
      "  Number of iterations: 35\n",
      "  Number of functions evaluations: 37\n"
     ]
    },
    {
     "name": "stdout",
     "output_type": "stream",
     "text": [
      "UPDATING HYPERPARAMETERS\n",
      "UPDATING ASSIGNMENTS\n",
      "0.05371216999056225\n",
      "SAVING:  ../output/K2_L10\n",
      "UPDATING TRAJECTORIES\n",
      "INFO:tensorflow:Optimization terminated with:\n",
      "  Message: b'CONVERGENCE: REL_REDUCTION_OF_F_<=_FACTR*EPSMCH'\n",
      "  Objective function value: 3460375.682347\n",
      "  Number of iterations: 36\n",
      "  Number of functions evaluations: 39\n"
     ]
    },
    {
     "name": "stderr",
     "output_type": "stream",
     "text": [
      "INFO:tensorflow:Optimization terminated with:\n",
      "  Message: b'CONVERGENCE: REL_REDUCTION_OF_F_<=_FACTR*EPSMCH'\n",
      "  Objective function value: 3460375.682347\n",
      "  Number of iterations: 36\n",
      "  Number of functions evaluations: 39\n"
     ]
    },
    {
     "name": "stdout",
     "output_type": "stream",
     "text": [
      "UPDATING HYPERPARAMETERS\n",
      "UPDATING ASSIGNMENTS\n",
      "0.06277042931708707\n",
      "SAVING:  ../output/K2_L10\n",
      "UPDATING TRAJECTORIES\n",
      "INFO:tensorflow:Optimization terminated with:\n",
      "  Message: b'CONVERGENCE: REL_REDUCTION_OF_F_<=_FACTR*EPSMCH'\n",
      "  Objective function value: 3457169.668264\n",
      "  Number of iterations: 36\n",
      "  Number of functions evaluations: 40\n"
     ]
    },
    {
     "name": "stderr",
     "output_type": "stream",
     "text": [
      "INFO:tensorflow:Optimization terminated with:\n",
      "  Message: b'CONVERGENCE: REL_REDUCTION_OF_F_<=_FACTR*EPSMCH'\n",
      "  Objective function value: 3457169.668264\n",
      "  Number of iterations: 36\n",
      "  Number of functions evaluations: 40\n"
     ]
    },
    {
     "name": "stdout",
     "output_type": "stream",
     "text": [
      "UPDATING HYPERPARAMETERS\n",
      "UPDATING ASSIGNMENTS\n",
      "0.05362910369241273\n",
      "SAVING:  ../output/K2_L10\n",
      "UPDATING TRAJECTORIES\n",
      "INFO:tensorflow:Optimization terminated with:\n",
      "  Message: b'CONVERGENCE: REL_REDUCTION_OF_F_<=_FACTR*EPSMCH'\n",
      "  Objective function value: 3458272.316788\n",
      "  Number of iterations: 36\n",
      "  Number of functions evaluations: 38\n"
     ]
    },
    {
     "name": "stderr",
     "output_type": "stream",
     "text": [
      "INFO:tensorflow:Optimization terminated with:\n",
      "  Message: b'CONVERGENCE: REL_REDUCTION_OF_F_<=_FACTR*EPSMCH'\n",
      "  Objective function value: 3458272.316788\n",
      "  Number of iterations: 36\n",
      "  Number of functions evaluations: 38\n"
     ]
    },
    {
     "name": "stdout",
     "output_type": "stream",
     "text": [
      "UPDATING HYPERPARAMETERS\n",
      "UPDATING ASSIGNMENTS\n",
      "0.0612852494139251\n",
      "SAVING:  ../output/K2_L10\n",
      "UPDATING TRAJECTORIES\n",
      "INFO:tensorflow:Optimization terminated with:\n",
      "  Message: b'CONVERGENCE: REL_REDUCTION_OF_F_<=_FACTR*EPSMCH'\n",
      "  Objective function value: 3469777.194614\n",
      "  Number of iterations: 35\n",
      "  Number of functions evaluations: 38\n"
     ]
    },
    {
     "name": "stderr",
     "output_type": "stream",
     "text": [
      "INFO:tensorflow:Optimization terminated with:\n",
      "  Message: b'CONVERGENCE: REL_REDUCTION_OF_F_<=_FACTR*EPSMCH'\n",
      "  Objective function value: 3469777.194614\n",
      "  Number of iterations: 35\n",
      "  Number of functions evaluations: 38\n"
     ]
    },
    {
     "name": "stdout",
     "output_type": "stream",
     "text": [
      "UPDATING HYPERPARAMETERS\n",
      "UPDATING ASSIGNMENTS\n",
      "0.06585959754054782\n",
      "SAVING:  ../output/K2_L10\n",
      "UPDATING TRAJECTORIES\n",
      "INFO:tensorflow:Optimization terminated with:\n",
      "  Message: b'CONVERGENCE: REL_REDUCTION_OF_F_<=_FACTR*EPSMCH'\n",
      "  Objective function value: 3501654.996875\n",
      "  Number of iterations: 36\n",
      "  Number of functions evaluations: 40\n"
     ]
    },
    {
     "name": "stderr",
     "output_type": "stream",
     "text": [
      "INFO:tensorflow:Optimization terminated with:\n",
      "  Message: b'CONVERGENCE: REL_REDUCTION_OF_F_<=_FACTR*EPSMCH'\n",
      "  Objective function value: 3501654.996875\n",
      "  Number of iterations: 36\n",
      "  Number of functions evaluations: 40\n"
     ]
    },
    {
     "name": "stdout",
     "output_type": "stream",
     "text": [
      "UPDATING HYPERPARAMETERS\n",
      "UPDATING ASSIGNMENTS\n",
      "0.058434377055654727\n",
      "SAVING:  ../output/K2_L10\n",
      "UPDATING TRAJECTORIES\n",
      "INFO:tensorflow:Optimization terminated with:\n",
      "  Message: b'CONVERGENCE: REL_REDUCTION_OF_F_<=_FACTR*EPSMCH'\n",
      "  Objective function value: 3483430.148919\n",
      "  Number of iterations: 33\n",
      "  Number of functions evaluations: 35\n"
     ]
    },
    {
     "name": "stderr",
     "output_type": "stream",
     "text": [
      "INFO:tensorflow:Optimization terminated with:\n",
      "  Message: b'CONVERGENCE: REL_REDUCTION_OF_F_<=_FACTR*EPSMCH'\n",
      "  Objective function value: 3483430.148919\n",
      "  Number of iterations: 33\n",
      "  Number of functions evaluations: 35\n"
     ]
    },
    {
     "name": "stdout",
     "output_type": "stream",
     "text": [
      "UPDATING HYPERPARAMETERS\n",
      "UPDATING ASSIGNMENTS\n",
      "0.04099987385183558\n",
      "SAVING:  ../output/K2_L10\n",
      "UPDATING TRAJECTORIES\n",
      "INFO:tensorflow:Optimization terminated with:\n",
      "  Message: b'CONVERGENCE: REL_REDUCTION_OF_F_<=_FACTR*EPSMCH'\n",
      "  Objective function value: 3503697.039431\n",
      "  Number of iterations: 31\n",
      "  Number of functions evaluations: 34\n"
     ]
    },
    {
     "name": "stderr",
     "output_type": "stream",
     "text": [
      "INFO:tensorflow:Optimization terminated with:\n",
      "  Message: b'CONVERGENCE: REL_REDUCTION_OF_F_<=_FACTR*EPSMCH'\n",
      "  Objective function value: 3503697.039431\n",
      "  Number of iterations: 31\n",
      "  Number of functions evaluations: 34\n"
     ]
    },
    {
     "name": "stdout",
     "output_type": "stream",
     "text": [
      "UPDATING HYPERPARAMETERS\n",
      "UPDATING ASSIGNMENTS\n",
      "0.02950756482512752\n",
      "SAVING:  ../output/K2_L10\n",
      "UPDATING TRAJECTORIES\n",
      "INFO:tensorflow:Optimization terminated with:\n",
      "  Message: b'CONVERGENCE: REL_REDUCTION_OF_F_<=_FACTR*EPSMCH'\n",
      "  Objective function value: 3533982.495722\n",
      "  Number of iterations: 29\n",
      "  Number of functions evaluations: 32\n"
     ]
    },
    {
     "name": "stderr",
     "output_type": "stream",
     "text": [
      "INFO:tensorflow:Optimization terminated with:\n",
      "  Message: b'CONVERGENCE: REL_REDUCTION_OF_F_<=_FACTR*EPSMCH'\n",
      "  Objective function value: 3533982.495722\n",
      "  Number of iterations: 29\n",
      "  Number of functions evaluations: 32\n"
     ]
    },
    {
     "name": "stdout",
     "output_type": "stream",
     "text": [
      "UPDATING HYPERPARAMETERS\n",
      "UPDATING ASSIGNMENTS\n",
      "0.02220620724258105\n",
      "SAVING:  ../output/K2_L10\n",
      "UPDATING TRAJECTORIES\n",
      "INFO:tensorflow:Optimization terminated with:\n",
      "  Message: b'CONVERGENCE: REL_REDUCTION_OF_F_<=_FACTR*EPSMCH'\n",
      "  Objective function value: 3551846.822256\n",
      "  Number of iterations: 27\n",
      "  Number of functions evaluations: 29\n"
     ]
    },
    {
     "name": "stderr",
     "output_type": "stream",
     "text": [
      "INFO:tensorflow:Optimization terminated with:\n",
      "  Message: b'CONVERGENCE: REL_REDUCTION_OF_F_<=_FACTR*EPSMCH'\n",
      "  Objective function value: 3551846.822256\n",
      "  Number of iterations: 27\n",
      "  Number of functions evaluations: 29\n"
     ]
    },
    {
     "name": "stdout",
     "output_type": "stream",
     "text": [
      "UPDATING HYPERPARAMETERS\n",
      "UPDATING ASSIGNMENTS\n",
      "0.01785969738866337\n",
      "SAVING:  ../output/K2_L10\n",
      "UPDATING TRAJECTORIES\n",
      "INFO:tensorflow:Optimization terminated with:\n",
      "  Message: b'CONVERGENCE: REL_REDUCTION_OF_F_<=_FACTR*EPSMCH'\n",
      "  Objective function value: 3566041.741499\n",
      "  Number of iterations: 27\n",
      "  Number of functions evaluations: 30\n"
     ]
    },
    {
     "name": "stderr",
     "output_type": "stream",
     "text": [
      "INFO:tensorflow:Optimization terminated with:\n",
      "  Message: b'CONVERGENCE: REL_REDUCTION_OF_F_<=_FACTR*EPSMCH'\n",
      "  Objective function value: 3566041.741499\n",
      "  Number of iterations: 27\n",
      "  Number of functions evaluations: 30\n"
     ]
    },
    {
     "name": "stdout",
     "output_type": "stream",
     "text": [
      "UPDATING HYPERPARAMETERS\n",
      "UPDATING ASSIGNMENTS\n",
      "0.018336095159939093\n",
      "SAVING:  ../output/K2_L10\n",
      "UPDATING TRAJECTORIES\n",
      "INFO:tensorflow:Optimization terminated with:\n",
      "  Message: b'CONVERGENCE: REL_REDUCTION_OF_F_<=_FACTR*EPSMCH'\n",
      "  Objective function value: 3570167.272496\n",
      "  Number of iterations: 27\n",
      "  Number of functions evaluations: 29\n"
     ]
    },
    {
     "name": "stderr",
     "output_type": "stream",
     "text": [
      "INFO:tensorflow:Optimization terminated with:\n",
      "  Message: b'CONVERGENCE: REL_REDUCTION_OF_F_<=_FACTR*EPSMCH'\n",
      "  Objective function value: 3570167.272496\n",
      "  Number of iterations: 27\n",
      "  Number of functions evaluations: 29\n"
     ]
    },
    {
     "name": "stdout",
     "output_type": "stream",
     "text": [
      "UPDATING HYPERPARAMETERS\n",
      "UPDATING ASSIGNMENTS\n",
      "0.01616003477284266\n",
      "SAVING:  ../output/K2_L10\n",
      "UPDATING TRAJECTORIES\n",
      "INFO:tensorflow:Optimization terminated with:\n",
      "  Message: b'CONVERGENCE: REL_REDUCTION_OF_F_<=_FACTR*EPSMCH'\n",
      "  Objective function value: 3588301.086061\n",
      "  Number of iterations: 33\n",
      "  Number of functions evaluations: 36\n"
     ]
    },
    {
     "name": "stderr",
     "output_type": "stream",
     "text": [
      "INFO:tensorflow:Optimization terminated with:\n",
      "  Message: b'CONVERGENCE: REL_REDUCTION_OF_F_<=_FACTR*EPSMCH'\n",
      "  Objective function value: 3588301.086061\n",
      "  Number of iterations: 33\n",
      "  Number of functions evaluations: 36\n"
     ]
    },
    {
     "name": "stdout",
     "output_type": "stream",
     "text": [
      "UPDATING HYPERPARAMETERS\n",
      "UPDATING ASSIGNMENTS\n",
      "0.041557374860629194\n",
      "SAVING:  ../output/K2_L10\n",
      "UPDATING TRAJECTORIES\n",
      "INFO:tensorflow:Optimization terminated with:\n",
      "  Message: b'CONVERGENCE: REL_REDUCTION_OF_F_<=_FACTR*EPSMCH'\n",
      "  Objective function value: 3574570.354384\n",
      "  Number of iterations: 33\n",
      "  Number of functions evaluations: 36\n"
     ]
    },
    {
     "name": "stderr",
     "output_type": "stream",
     "text": [
      "INFO:tensorflow:Optimization terminated with:\n",
      "  Message: b'CONVERGENCE: REL_REDUCTION_OF_F_<=_FACTR*EPSMCH'\n",
      "  Objective function value: 3574570.354384\n",
      "  Number of iterations: 33\n",
      "  Number of functions evaluations: 36\n"
     ]
    },
    {
     "name": "stdout",
     "output_type": "stream",
     "text": [
      "UPDATING HYPERPARAMETERS\n",
      "UPDATING ASSIGNMENTS\n",
      "0.0313873645429325\n",
      "SAVING:  ../output/K2_L10\n",
      "UPDATING TRAJECTORIES\n",
      "INFO:tensorflow:Optimization terminated with:\n",
      "  Message: b'CONVERGENCE: REL_REDUCTION_OF_F_<=_FACTR*EPSMCH'\n",
      "  Objective function value: 3583671.541612\n",
      "  Number of iterations: 27\n",
      "  Number of functions evaluations: 30\n"
     ]
    },
    {
     "name": "stderr",
     "output_type": "stream",
     "text": [
      "INFO:tensorflow:Optimization terminated with:\n",
      "  Message: b'CONVERGENCE: REL_REDUCTION_OF_F_<=_FACTR*EPSMCH'\n",
      "  Objective function value: 3583671.541612\n",
      "  Number of iterations: 27\n",
      "  Number of functions evaluations: 30\n"
     ]
    },
    {
     "name": "stdout",
     "output_type": "stream",
     "text": [
      "UPDATING HYPERPARAMETERS\n",
      "UPDATING ASSIGNMENTS\n",
      "0.01770766732967136\n",
      "SAVING:  ../output/K2_L10\n",
      "UPDATING TRAJECTORIES\n",
      "INFO:tensorflow:Optimization terminated with:\n",
      "  Message: b'CONVERGENCE: REL_REDUCTION_OF_F_<=_FACTR*EPSMCH'\n",
      "  Objective function value: 3563825.104271\n",
      "  Number of iterations: 23\n",
      "  Number of functions evaluations: 26\n"
     ]
    },
    {
     "name": "stderr",
     "output_type": "stream",
     "text": [
      "INFO:tensorflow:Optimization terminated with:\n",
      "  Message: b'CONVERGENCE: REL_REDUCTION_OF_F_<=_FACTR*EPSMCH'\n",
      "  Objective function value: 3563825.104271\n",
      "  Number of iterations: 23\n",
      "  Number of functions evaluations: 26\n"
     ]
    },
    {
     "name": "stdout",
     "output_type": "stream",
     "text": [
      "UPDATING HYPERPARAMETERS\n",
      "UPDATING ASSIGNMENTS\n",
      "0.010766468201726519\n",
      "SAVING:  ../output/K2_L10\n",
      "UPDATING TRAJECTORIES\n",
      "INFO:tensorflow:Optimization terminated with:\n",
      "  Message: b'CONVERGENCE: REL_REDUCTION_OF_F_<=_FACTR*EPSMCH'\n",
      "  Objective function value: 3570720.036817\n",
      "  Number of iterations: 32\n",
      "  Number of functions evaluations: 35\n"
     ]
    },
    {
     "name": "stderr",
     "output_type": "stream",
     "text": [
      "INFO:tensorflow:Optimization terminated with:\n",
      "  Message: b'CONVERGENCE: REL_REDUCTION_OF_F_<=_FACTR*EPSMCH'\n",
      "  Objective function value: 3570720.036817\n",
      "  Number of iterations: 32\n",
      "  Number of functions evaluations: 35\n"
     ]
    },
    {
     "name": "stdout",
     "output_type": "stream",
     "text": [
      "UPDATING HYPERPARAMETERS\n",
      "UPDATING ASSIGNMENTS\n",
      "0.03085203273111905\n",
      "SAVING:  ../output/K2_L10\n",
      "UPDATING TRAJECTORIES\n",
      "INFO:tensorflow:Optimization terminated with:\n",
      "  Message: b'CONVERGENCE: REL_REDUCTION_OF_F_<=_FACTR*EPSMCH'\n",
      "  Objective function value: 3582229.257141\n",
      "  Number of iterations: 28\n",
      "  Number of functions evaluations: 31\n"
     ]
    },
    {
     "name": "stderr",
     "output_type": "stream",
     "text": [
      "INFO:tensorflow:Optimization terminated with:\n",
      "  Message: b'CONVERGENCE: REL_REDUCTION_OF_F_<=_FACTR*EPSMCH'\n",
      "  Objective function value: 3582229.257141\n",
      "  Number of iterations: 28\n",
      "  Number of functions evaluations: 31\n"
     ]
    },
    {
     "name": "stdout",
     "output_type": "stream",
     "text": [
      "UPDATING HYPERPARAMETERS\n",
      "UPDATING ASSIGNMENTS\n",
      "0.015579168659567608\n",
      "SAVING:  ../output/K2_L10\n",
      "UPDATING TRAJECTORIES\n",
      "INFO:tensorflow:Optimization terminated with:\n",
      "  Message: b'CONVERGENCE: REL_REDUCTION_OF_F_<=_FACTR*EPSMCH'\n",
      "  Objective function value: 3573860.032274\n",
      "  Number of iterations: 25\n",
      "  Number of functions evaluations: 27\n"
     ]
    },
    {
     "name": "stderr",
     "output_type": "stream",
     "text": [
      "INFO:tensorflow:Optimization terminated with:\n",
      "  Message: b'CONVERGENCE: REL_REDUCTION_OF_F_<=_FACTR*EPSMCH'\n",
      "  Objective function value: 3573860.032274\n",
      "  Number of iterations: 25\n",
      "  Number of functions evaluations: 27\n"
     ]
    },
    {
     "name": "stdout",
     "output_type": "stream",
     "text": [
      "UPDATING HYPERPARAMETERS\n",
      "UPDATING ASSIGNMENTS\n",
      "0.015499167188318824\n",
      "SAVING:  ../output/K2_L10\n",
      "UPDATING TRAJECTORIES\n",
      "INFO:tensorflow:Optimization terminated with:\n",
      "  Message: b'CONVERGENCE: REL_REDUCTION_OF_F_<=_FACTR*EPSMCH'\n",
      "  Objective function value: 3540722.364224\n",
      "  Number of iterations: 39\n",
      "  Number of functions evaluations: 41\n"
     ]
    },
    {
     "name": "stderr",
     "output_type": "stream",
     "text": [
      "INFO:tensorflow:Optimization terminated with:\n",
      "  Message: b'CONVERGENCE: REL_REDUCTION_OF_F_<=_FACTR*EPSMCH'\n",
      "  Objective function value: 3540722.364224\n",
      "  Number of iterations: 39\n",
      "  Number of functions evaluations: 41\n"
     ]
    },
    {
     "name": "stdout",
     "output_type": "stream",
     "text": [
      "UPDATING HYPERPARAMETERS\n",
      "UPDATING ASSIGNMENTS\n",
      "0.07326721778417661\n",
      "SAVING:  ../output/K2_L10\n",
      "UPDATING TRAJECTORIES\n",
      "INFO:tensorflow:Optimization terminated with:\n",
      "  Message: b'CONVERGENCE: REL_REDUCTION_OF_F_<=_FACTR*EPSMCH'\n",
      "  Objective function value: 3549452.048702\n",
      "  Number of iterations: 28\n",
      "  Number of functions evaluations: 31\n"
     ]
    },
    {
     "name": "stderr",
     "output_type": "stream",
     "text": [
      "INFO:tensorflow:Optimization terminated with:\n",
      "  Message: b'CONVERGENCE: REL_REDUCTION_OF_F_<=_FACTR*EPSMCH'\n",
      "  Objective function value: 3549452.048702\n",
      "  Number of iterations: 28\n",
      "  Number of functions evaluations: 31\n"
     ]
    },
    {
     "name": "stdout",
     "output_type": "stream",
     "text": [
      "UPDATING HYPERPARAMETERS\n",
      "UPDATING ASSIGNMENTS\n",
      "0.02189883854453268\n",
      "SAVING:  ../output/K2_L10\n",
      "UPDATING TRAJECTORIES\n",
      "INFO:tensorflow:Optimization terminated with:\n",
      "  Message: b'CONVERGENCE: REL_REDUCTION_OF_F_<=_FACTR*EPSMCH'\n",
      "  Objective function value: 3535367.319063\n",
      "  Number of iterations: 33\n",
      "  Number of functions evaluations: 35\n"
     ]
    },
    {
     "name": "stderr",
     "output_type": "stream",
     "text": [
      "INFO:tensorflow:Optimization terminated with:\n",
      "  Message: b'CONVERGENCE: REL_REDUCTION_OF_F_<=_FACTR*EPSMCH'\n",
      "  Objective function value: 3535367.319063\n",
      "  Number of iterations: 33\n",
      "  Number of functions evaluations: 35\n"
     ]
    },
    {
     "name": "stdout",
     "output_type": "stream",
     "text": [
      "UPDATING HYPERPARAMETERS\n",
      "UPDATING ASSIGNMENTS\n",
      "0.03158868411411889\n",
      "SAVING:  ../output/K2_L10\n",
      "UPDATING TRAJECTORIES\n",
      "INFO:tensorflow:Optimization terminated with:\n",
      "  Message: b'CONVERGENCE: REL_REDUCTION_OF_F_<=_FACTR*EPSMCH'\n",
      "  Objective function value: 3519322.469350\n",
      "  Number of iterations: 32\n",
      "  Number of functions evaluations: 35\n"
     ]
    },
    {
     "name": "stderr",
     "output_type": "stream",
     "text": [
      "INFO:tensorflow:Optimization terminated with:\n",
      "  Message: b'CONVERGENCE: REL_REDUCTION_OF_F_<=_FACTR*EPSMCH'\n",
      "  Objective function value: 3519322.469350\n",
      "  Number of iterations: 32\n",
      "  Number of functions evaluations: 35\n"
     ]
    },
    {
     "name": "stdout",
     "output_type": "stream",
     "text": [
      "UPDATING HYPERPARAMETERS\n",
      "UPDATING ASSIGNMENTS\n",
      "0.02270204610078935\n",
      "SAVING:  ../output/K2_L10\n",
      "UPDATING TRAJECTORIES\n",
      "INFO:tensorflow:Optimization terminated with:\n",
      "  Message: b'CONVERGENCE: REL_REDUCTION_OF_F_<=_FACTR*EPSMCH'\n",
      "  Objective function value: 3483315.769365\n",
      "  Number of iterations: 21\n",
      "  Number of functions evaluations: 24\n"
     ]
    },
    {
     "name": "stderr",
     "output_type": "stream",
     "text": [
      "INFO:tensorflow:Optimization terminated with:\n",
      "  Message: b'CONVERGENCE: REL_REDUCTION_OF_F_<=_FACTR*EPSMCH'\n",
      "  Objective function value: 3483315.769365\n",
      "  Number of iterations: 21\n",
      "  Number of functions evaluations: 24\n"
     ]
    },
    {
     "name": "stdout",
     "output_type": "stream",
     "text": [
      "UPDATING HYPERPARAMETERS\n",
      "UPDATING ASSIGNMENTS\n",
      "0.008018590458818666\n",
      "SAVING:  ../output/K2_L10\n",
      "UPDATING TRAJECTORIES\n",
      "INFO:tensorflow:Optimization terminated with:\n",
      "  Message: b'CONVERGENCE: REL_REDUCTION_OF_F_<=_FACTR*EPSMCH'\n",
      "  Objective function value: 3486545.954055\n",
      "  Number of iterations: 11\n",
      "  Number of functions evaluations: 13\n"
     ]
    },
    {
     "name": "stderr",
     "output_type": "stream",
     "text": [
      "INFO:tensorflow:Optimization terminated with:\n",
      "  Message: b'CONVERGENCE: REL_REDUCTION_OF_F_<=_FACTR*EPSMCH'\n",
      "  Objective function value: 3486545.954055\n",
      "  Number of iterations: 11\n",
      "  Number of functions evaluations: 13\n"
     ]
    },
    {
     "name": "stdout",
     "output_type": "stream",
     "text": [
      "UPDATING HYPERPARAMETERS\n",
      "UPDATING ASSIGNMENTS\n",
      "0.004297228654445862\n",
      "SAVING:  ../output/K2_L10\n",
      "UPDATING TRAJECTORIES\n",
      "INFO:tensorflow:Optimization terminated with:\n",
      "  Message: b'CONVERGENCE: REL_REDUCTION_OF_F_<=_FACTR*EPSMCH'\n",
      "  Objective function value: 3492261.350543\n",
      "  Number of iterations: 24\n",
      "  Number of functions evaluations: 26\n"
     ]
    },
    {
     "name": "stderr",
     "output_type": "stream",
     "text": [
      "INFO:tensorflow:Optimization terminated with:\n",
      "  Message: b'CONVERGENCE: REL_REDUCTION_OF_F_<=_FACTR*EPSMCH'\n",
      "  Objective function value: 3492261.350543\n",
      "  Number of iterations: 24\n",
      "  Number of functions evaluations: 26\n"
     ]
    },
    {
     "name": "stdout",
     "output_type": "stream",
     "text": [
      "UPDATING HYPERPARAMETERS\n",
      "UPDATING ASSIGNMENTS\n",
      "0.009192200445758289\n",
      "SAVING:  ../output/K2_L10\n",
      "UPDATING TRAJECTORIES\n",
      "INFO:tensorflow:Optimization terminated with:\n",
      "  Message: b'CONVERGENCE: REL_REDUCTION_OF_F_<=_FACTR*EPSMCH'\n",
      "  Objective function value: 3453097.720937\n",
      "  Number of iterations: 35\n",
      "  Number of functions evaluations: 38\n"
     ]
    },
    {
     "name": "stderr",
     "output_type": "stream",
     "text": [
      "INFO:tensorflow:Optimization terminated with:\n",
      "  Message: b'CONVERGENCE: REL_REDUCTION_OF_F_<=_FACTR*EPSMCH'\n",
      "  Objective function value: 3453097.720937\n",
      "  Number of iterations: 35\n",
      "  Number of functions evaluations: 38\n"
     ]
    },
    {
     "name": "stdout",
     "output_type": "stream",
     "text": [
      "UPDATING HYPERPARAMETERS\n",
      "UPDATING ASSIGNMENTS\n",
      "0.033792922546928006\n",
      "SAVING:  ../output/K2_L10\n",
      "UPDATING TRAJECTORIES\n",
      "INFO:tensorflow:Optimization terminated with:\n",
      "  Message: b'CONVERGENCE: REL_REDUCTION_OF_F_<=_FACTR*EPSMCH'\n",
      "  Objective function value: 3452045.061444\n",
      "  Number of iterations: 25\n",
      "  Number of functions evaluations: 28\n"
     ]
    },
    {
     "name": "stderr",
     "output_type": "stream",
     "text": [
      "INFO:tensorflow:Optimization terminated with:\n",
      "  Message: b'CONVERGENCE: REL_REDUCTION_OF_F_<=_FACTR*EPSMCH'\n",
      "  Objective function value: 3452045.061444\n",
      "  Number of iterations: 25\n",
      "  Number of functions evaluations: 28\n"
     ]
    },
    {
     "name": "stdout",
     "output_type": "stream",
     "text": [
      "UPDATING HYPERPARAMETERS\n",
      "UPDATING ASSIGNMENTS\n",
      "0.0080913028813518\n",
      "SAVING:  ../output/K2_L10\n",
      "UPDATING TRAJECTORIES\n",
      "INFO:tensorflow:Optimization terminated with:\n",
      "  Message: b'CONVERGENCE: REL_REDUCTION_OF_F_<=_FACTR*EPSMCH'\n",
      "  Objective function value: 3435217.463185\n",
      "  Number of iterations: 28\n",
      "  Number of functions evaluations: 31\n"
     ]
    },
    {
     "name": "stderr",
     "output_type": "stream",
     "text": [
      "INFO:tensorflow:Optimization terminated with:\n",
      "  Message: b'CONVERGENCE: REL_REDUCTION_OF_F_<=_FACTR*EPSMCH'\n",
      "  Objective function value: 3435217.463185\n",
      "  Number of iterations: 28\n",
      "  Number of functions evaluations: 31\n"
     ]
    },
    {
     "name": "stdout",
     "output_type": "stream",
     "text": [
      "UPDATING HYPERPARAMETERS\n",
      "UPDATING ASSIGNMENTS\n",
      "0.010445222641702674\n",
      "SAVING:  ../output/K2_L10\n",
      "UPDATING TRAJECTORIES\n",
      "INFO:tensorflow:Optimization terminated with:\n",
      "  Message: b'CONVERGENCE: REL_REDUCTION_OF_F_<=_FACTR*EPSMCH'\n",
      "  Objective function value: 3452607.742042\n",
      "  Number of iterations: 24\n",
      "  Number of functions evaluations: 26\n"
     ]
    },
    {
     "name": "stderr",
     "output_type": "stream",
     "text": [
      "INFO:tensorflow:Optimization terminated with:\n",
      "  Message: b'CONVERGENCE: REL_REDUCTION_OF_F_<=_FACTR*EPSMCH'\n",
      "  Objective function value: 3452607.742042\n",
      "  Number of iterations: 24\n",
      "  Number of functions evaluations: 26\n"
     ]
    },
    {
     "name": "stdout",
     "output_type": "stream",
     "text": [
      "UPDATING HYPERPARAMETERS\n",
      "UPDATING ASSIGNMENTS\n",
      "0.006149426930613504\n",
      "SAVING:  ../output/K2_L10\n",
      "UPDATING TRAJECTORIES\n",
      "INFO:tensorflow:Optimization terminated with:\n",
      "  Message: b'CONVERGENCE: REL_REDUCTION_OF_F_<=_FACTR*EPSMCH'\n",
      "  Objective function value: 3442319.240070\n",
      "  Number of iterations: 19\n",
      "  Number of functions evaluations: 21\n"
     ]
    },
    {
     "name": "stderr",
     "output_type": "stream",
     "text": [
      "INFO:tensorflow:Optimization terminated with:\n",
      "  Message: b'CONVERGENCE: REL_REDUCTION_OF_F_<=_FACTR*EPSMCH'\n",
      "  Objective function value: 3442319.240070\n",
      "  Number of iterations: 19\n",
      "  Number of functions evaluations: 21\n"
     ]
    },
    {
     "name": "stdout",
     "output_type": "stream",
     "text": [
      "UPDATING HYPERPARAMETERS\n",
      "UPDATING ASSIGNMENTS\n",
      "0.003465623023362805\n",
      "SAVING:  ../output/K2_L10\n",
      "UPDATING TRAJECTORIES\n",
      "INFO:tensorflow:Optimization terminated with:\n",
      "  Message: b'CONVERGENCE: REL_REDUCTION_OF_F_<=_FACTR*EPSMCH'\n",
      "  Objective function value: 3445047.454366\n",
      "  Number of iterations: 36\n",
      "  Number of functions evaluations: 39\n"
     ]
    },
    {
     "name": "stderr",
     "output_type": "stream",
     "text": [
      "INFO:tensorflow:Optimization terminated with:\n",
      "  Message: b'CONVERGENCE: REL_REDUCTION_OF_F_<=_FACTR*EPSMCH'\n",
      "  Objective function value: 3445047.454366\n",
      "  Number of iterations: 36\n",
      "  Number of functions evaluations: 39\n"
     ]
    },
    {
     "name": "stdout",
     "output_type": "stream",
     "text": [
      "UPDATING HYPERPARAMETERS\n",
      "UPDATING ASSIGNMENTS\n",
      "0.05692692753759005\n",
      "SAVING:  ../output/K2_L10\n",
      "UPDATING TRAJECTORIES\n",
      "INFO:tensorflow:Optimization terminated with:\n",
      "  Message: b'CONVERGENCE: REL_REDUCTION_OF_F_<=_FACTR*EPSMCH'\n",
      "  Objective function value: 3443798.759859\n",
      "  Number of iterations: 38\n",
      "  Number of functions evaluations: 42\n"
     ]
    },
    {
     "name": "stderr",
     "output_type": "stream",
     "text": [
      "INFO:tensorflow:Optimization terminated with:\n",
      "  Message: b'CONVERGENCE: REL_REDUCTION_OF_F_<=_FACTR*EPSMCH'\n",
      "  Objective function value: 3443798.759859\n",
      "  Number of iterations: 38\n",
      "  Number of functions evaluations: 42\n"
     ]
    },
    {
     "name": "stdout",
     "output_type": "stream",
     "text": [
      "UPDATING HYPERPARAMETERS\n",
      "UPDATING ASSIGNMENTS\n",
      "0.054287612332004555\n",
      "SAVING:  ../output/K2_L10\n",
      "UPDATING TRAJECTORIES\n",
      "INFO:tensorflow:Optimization terminated with:\n",
      "  Message: b'CONVERGENCE: REL_REDUCTION_OF_F_<=_FACTR*EPSMCH'\n",
      "  Objective function value: 3454434.259040\n",
      "  Number of iterations: 27\n",
      "  Number of functions evaluations: 29\n"
     ]
    },
    {
     "name": "stderr",
     "output_type": "stream",
     "text": [
      "INFO:tensorflow:Optimization terminated with:\n",
      "  Message: b'CONVERGENCE: REL_REDUCTION_OF_F_<=_FACTR*EPSMCH'\n",
      "  Objective function value: 3454434.259040\n",
      "  Number of iterations: 27\n",
      "  Number of functions evaluations: 29\n"
     ]
    },
    {
     "name": "stdout",
     "output_type": "stream",
     "text": [
      "UPDATING HYPERPARAMETERS\n",
      "UPDATING ASSIGNMENTS\n",
      "0.012494535192022649\n",
      "SAVING:  ../output/K2_L10\n",
      "UPDATING TRAJECTORIES\n",
      "INFO:tensorflow:Optimization terminated with:\n",
      "  Message: b'CONVERGENCE: REL_REDUCTION_OF_F_<=_FACTR*EPSMCH'\n",
      "  Objective function value: 3473352.946257\n",
      "  Number of iterations: 22\n",
      "  Number of functions evaluations: 25\n"
     ]
    },
    {
     "name": "stderr",
     "output_type": "stream",
     "text": [
      "INFO:tensorflow:Optimization terminated with:\n",
      "  Message: b'CONVERGENCE: REL_REDUCTION_OF_F_<=_FACTR*EPSMCH'\n",
      "  Objective function value: 3473352.946257\n",
      "  Number of iterations: 22\n",
      "  Number of functions evaluations: 25\n"
     ]
    },
    {
     "name": "stdout",
     "output_type": "stream",
     "text": [
      "UPDATING HYPERPARAMETERS\n",
      "UPDATING ASSIGNMENTS\n",
      "0.007701143590312859\n",
      "SAVING:  ../output/K2_L10\n",
      "UPDATING TRAJECTORIES\n",
      "INFO:tensorflow:Optimization terminated with:\n",
      "  Message: b'CONVERGENCE: REL_REDUCTION_OF_F_<=_FACTR*EPSMCH'\n",
      "  Objective function value: 3467491.702172\n",
      "  Number of iterations: 22\n",
      "  Number of functions evaluations: 24\n"
     ]
    },
    {
     "name": "stderr",
     "output_type": "stream",
     "text": [
      "INFO:tensorflow:Optimization terminated with:\n",
      "  Message: b'CONVERGENCE: REL_REDUCTION_OF_F_<=_FACTR*EPSMCH'\n",
      "  Objective function value: 3467491.702172\n",
      "  Number of iterations: 22\n",
      "  Number of functions evaluations: 24\n"
     ]
    },
    {
     "name": "stdout",
     "output_type": "stream",
     "text": [
      "UPDATING HYPERPARAMETERS\n",
      "UPDATING ASSIGNMENTS\n",
      "0.0033215115884130727\n",
      "SAVING:  ../output/K2_L10\n",
      "UPDATING TRAJECTORIES\n",
      "INFO:tensorflow:Optimization terminated with:\n",
      "  Message: b'CONVERGENCE: REL_REDUCTION_OF_F_<=_FACTR*EPSMCH'\n",
      "  Objective function value: 3469439.653150\n",
      "  Number of iterations: 25\n",
      "  Number of functions evaluations: 27\n"
     ]
    },
    {
     "name": "stderr",
     "output_type": "stream",
     "text": [
      "INFO:tensorflow:Optimization terminated with:\n",
      "  Message: b'CONVERGENCE: REL_REDUCTION_OF_F_<=_FACTR*EPSMCH'\n",
      "  Objective function value: 3469439.653150\n",
      "  Number of iterations: 25\n",
      "  Number of functions evaluations: 27\n"
     ]
    },
    {
     "name": "stdout",
     "output_type": "stream",
     "text": [
      "UPDATING HYPERPARAMETERS\n",
      "UPDATING ASSIGNMENTS\n",
      "0.008979939048425364\n",
      "SAVING:  ../output/K2_L10\n",
      "UPDATING TRAJECTORIES\n",
      "INFO:tensorflow:Optimization terminated with:\n",
      "  Message: b'CONVERGENCE: REL_REDUCTION_OF_F_<=_FACTR*EPSMCH'\n",
      "  Objective function value: 3465571.771691\n",
      "  Number of iterations: 25\n",
      "  Number of functions evaluations: 27\n"
     ]
    },
    {
     "name": "stderr",
     "output_type": "stream",
     "text": [
      "INFO:tensorflow:Optimization terminated with:\n",
      "  Message: b'CONVERGENCE: REL_REDUCTION_OF_F_<=_FACTR*EPSMCH'\n",
      "  Objective function value: 3465571.771691\n",
      "  Number of iterations: 25\n",
      "  Number of functions evaluations: 27\n"
     ]
    },
    {
     "name": "stdout",
     "output_type": "stream",
     "text": [
      "UPDATING HYPERPARAMETERS\n",
      "UPDATING ASSIGNMENTS\n",
      "0.013621913665223187\n",
      "SAVING:  ../output/K2_L10\n",
      "UPDATING TRAJECTORIES\n",
      "INFO:tensorflow:Optimization terminated with:\n",
      "  Message: b'CONVERGENCE: REL_REDUCTION_OF_F_<=_FACTR*EPSMCH'\n",
      "  Objective function value: 3499473.530867\n",
      "  Number of iterations: 23\n",
      "  Number of functions evaluations: 25\n"
     ]
    },
    {
     "name": "stderr",
     "output_type": "stream",
     "text": [
      "INFO:tensorflow:Optimization terminated with:\n",
      "  Message: b'CONVERGENCE: REL_REDUCTION_OF_F_<=_FACTR*EPSMCH'\n",
      "  Objective function value: 3499473.530867\n",
      "  Number of iterations: 23\n",
      "  Number of functions evaluations: 25\n"
     ]
    },
    {
     "name": "stdout",
     "output_type": "stream",
     "text": [
      "UPDATING HYPERPARAMETERS\n",
      "UPDATING ASSIGNMENTS\n",
      "0.0046582552338251424\n",
      "SAVING:  ../output/K2_L10\n",
      "UPDATING TRAJECTORIES\n",
      "INFO:tensorflow:Optimization terminated with:\n",
      "  Message: b'CONVERGENCE: REL_REDUCTION_OF_F_<=_FACTR*EPSMCH'\n",
      "  Objective function value: 3516979.834309\n",
      "  Number of iterations: 29\n",
      "  Number of functions evaluations: 31\n"
     ]
    },
    {
     "name": "stderr",
     "output_type": "stream",
     "text": [
      "INFO:tensorflow:Optimization terminated with:\n",
      "  Message: b'CONVERGENCE: REL_REDUCTION_OF_F_<=_FACTR*EPSMCH'\n",
      "  Objective function value: 3516979.834309\n",
      "  Number of iterations: 29\n",
      "  Number of functions evaluations: 31\n"
     ]
    },
    {
     "name": "stdout",
     "output_type": "stream",
     "text": [
      "UPDATING HYPERPARAMETERS\n",
      "UPDATING ASSIGNMENTS\n",
      "0.02359190345464332\n",
      "SAVING:  ../output/K2_L10\n",
      "UPDATING TRAJECTORIES\n",
      "INFO:tensorflow:Optimization terminated with:\n",
      "  Message: b'CONVERGENCE: REL_REDUCTION_OF_F_<=_FACTR*EPSMCH'\n",
      "  Objective function value: 3520010.810678\n",
      "  Number of iterations: 33\n",
      "  Number of functions evaluations: 36\n"
     ]
    },
    {
     "name": "stderr",
     "output_type": "stream",
     "text": [
      "INFO:tensorflow:Optimization terminated with:\n",
      "  Message: b'CONVERGENCE: REL_REDUCTION_OF_F_<=_FACTR*EPSMCH'\n",
      "  Objective function value: 3520010.810678\n",
      "  Number of iterations: 33\n",
      "  Number of functions evaluations: 36\n"
     ]
    },
    {
     "name": "stdout",
     "output_type": "stream",
     "text": [
      "UPDATING HYPERPARAMETERS\n",
      "UPDATING ASSIGNMENTS\n",
      "0.020902679515712612\n",
      "SAVING:  ../output/K2_L10\n",
      "UPDATING TRAJECTORIES\n",
      "INFO:tensorflow:Optimization terminated with:\n",
      "  Message: b'CONVERGENCE: REL_REDUCTION_OF_F_<=_FACTR*EPSMCH'\n",
      "  Objective function value: 3541994.603401\n",
      "  Number of iterations: 27\n",
      "  Number of functions evaluations: 29\n"
     ]
    },
    {
     "name": "stderr",
     "output_type": "stream",
     "text": [
      "INFO:tensorflow:Optimization terminated with:\n",
      "  Message: b'CONVERGENCE: REL_REDUCTION_OF_F_<=_FACTR*EPSMCH'\n",
      "  Objective function value: 3541994.603401\n",
      "  Number of iterations: 27\n",
      "  Number of functions evaluations: 29\n"
     ]
    },
    {
     "name": "stdout",
     "output_type": "stream",
     "text": [
      "UPDATING HYPERPARAMETERS\n",
      "UPDATING ASSIGNMENTS\n",
      "0.012968644083719873\n",
      "SAVING:  ../output/K2_L10\n",
      "UPDATING TRAJECTORIES\n",
      "INFO:tensorflow:Optimization terminated with:\n",
      "  Message: b'CONVERGENCE: REL_REDUCTION_OF_F_<=_FACTR*EPSMCH'\n",
      "  Objective function value: 3578342.294208\n",
      "  Number of iterations: 21\n",
      "  Number of functions evaluations: 23\n"
     ]
    },
    {
     "name": "stderr",
     "output_type": "stream",
     "text": [
      "INFO:tensorflow:Optimization terminated with:\n",
      "  Message: b'CONVERGENCE: REL_REDUCTION_OF_F_<=_FACTR*EPSMCH'\n",
      "  Objective function value: 3578342.294208\n",
      "  Number of iterations: 21\n",
      "  Number of functions evaluations: 23\n"
     ]
    },
    {
     "name": "stdout",
     "output_type": "stream",
     "text": [
      "UPDATING HYPERPARAMETERS\n",
      "UPDATING ASSIGNMENTS\n",
      "0.0036053885488424304\n",
      "SAVING:  ../output/K2_L10\n",
      "UPDATING TRAJECTORIES\n",
      "INFO:tensorflow:Optimization terminated with:\n",
      "  Message: b'CONVERGENCE: REL_REDUCTION_OF_F_<=_FACTR*EPSMCH'\n",
      "  Objective function value: 3578014.721878\n",
      "  Number of iterations: 24\n",
      "  Number of functions evaluations: 26\n"
     ]
    },
    {
     "name": "stderr",
     "output_type": "stream",
     "text": [
      "INFO:tensorflow:Optimization terminated with:\n",
      "  Message: b'CONVERGENCE: REL_REDUCTION_OF_F_<=_FACTR*EPSMCH'\n",
      "  Objective function value: 3578014.721878\n",
      "  Number of iterations: 24\n",
      "  Number of functions evaluations: 26\n"
     ]
    },
    {
     "name": "stdout",
     "output_type": "stream",
     "text": [
      "UPDATING HYPERPARAMETERS\n",
      "UPDATING ASSIGNMENTS\n",
      "0.010452714798367123\n",
      "SAVING:  ../output/K2_L10\n",
      "UPDATING TRAJECTORIES\n",
      "INFO:tensorflow:Optimization terminated with:\n",
      "  Message: b'CONVERGENCE: REL_REDUCTION_OF_F_<=_FACTR*EPSMCH'\n",
      "  Objective function value: 3587175.819642\n",
      "  Number of iterations: 41\n",
      "  Number of functions evaluations: 44\n"
     ]
    },
    {
     "name": "stderr",
     "output_type": "stream",
     "text": [
      "INFO:tensorflow:Optimization terminated with:\n",
      "  Message: b'CONVERGENCE: REL_REDUCTION_OF_F_<=_FACTR*EPSMCH'\n",
      "  Objective function value: 3587175.819642\n",
      "  Number of iterations: 41\n",
      "  Number of functions evaluations: 44\n"
     ]
    },
    {
     "name": "stdout",
     "output_type": "stream",
     "text": [
      "UPDATING HYPERPARAMETERS\n",
      "UPDATING ASSIGNMENTS\n",
      "0.09167934743227102\n",
      "SAVING:  ../output/K2_L10\n",
      "UPDATING TRAJECTORIES\n",
      "INFO:tensorflow:Optimization terminated with:\n",
      "  Message: b'CONVERGENCE: REL_REDUCTION_OF_F_<=_FACTR*EPSMCH'\n",
      "  Objective function value: 3569029.283798\n",
      "  Number of iterations: 32\n",
      "  Number of functions evaluations: 34\n"
     ]
    },
    {
     "name": "stderr",
     "output_type": "stream",
     "text": [
      "INFO:tensorflow:Optimization terminated with:\n",
      "  Message: b'CONVERGENCE: REL_REDUCTION_OF_F_<=_FACTR*EPSMCH'\n",
      "  Objective function value: 3569029.283798\n",
      "  Number of iterations: 32\n",
      "  Number of functions evaluations: 34\n"
     ]
    },
    {
     "name": "stdout",
     "output_type": "stream",
     "text": [
      "UPDATING HYPERPARAMETERS\n",
      "UPDATING ASSIGNMENTS\n",
      "0.02143191234610055\n",
      "SAVING:  ../output/K2_L10\n",
      "UPDATING TRAJECTORIES\n",
      "INFO:tensorflow:Optimization terminated with:\n",
      "  Message: b'CONVERGENCE: REL_REDUCTION_OF_F_<=_FACTR*EPSMCH'\n",
      "  Objective function value: 3565245.933028\n",
      "  Number of iterations: 13\n",
      "  Number of functions evaluations: 15\n"
     ]
    },
    {
     "name": "stderr",
     "output_type": "stream",
     "text": [
      "INFO:tensorflow:Optimization terminated with:\n",
      "  Message: b'CONVERGENCE: REL_REDUCTION_OF_F_<=_FACTR*EPSMCH'\n",
      "  Objective function value: 3565245.933028\n",
      "  Number of iterations: 13\n",
      "  Number of functions evaluations: 15\n"
     ]
    },
    {
     "name": "stdout",
     "output_type": "stream",
     "text": [
      "UPDATING HYPERPARAMETERS\n",
      "UPDATING ASSIGNMENTS\n",
      "0.0036153047857624384\n",
      "SAVING:  ../output/K2_L10\n",
      "UPDATING TRAJECTORIES\n",
      "INFO:tensorflow:Optimization terminated with:\n",
      "  Message: b'CONVERGENCE: REL_REDUCTION_OF_F_<=_FACTR*EPSMCH'\n",
      "  Objective function value: 3561866.602521\n",
      "  Number of iterations: 24\n",
      "  Number of functions evaluations: 27\n"
     ]
    },
    {
     "name": "stderr",
     "output_type": "stream",
     "text": [
      "INFO:tensorflow:Optimization terminated with:\n",
      "  Message: b'CONVERGENCE: REL_REDUCTION_OF_F_<=_FACTR*EPSMCH'\n",
      "  Objective function value: 3561866.602521\n",
      "  Number of iterations: 24\n",
      "  Number of functions evaluations: 27\n"
     ]
    },
    {
     "name": "stdout",
     "output_type": "stream",
     "text": [
      "UPDATING HYPERPARAMETERS\n",
      "UPDATING ASSIGNMENTS\n",
      "0.008538773347294613\n",
      "SAVING:  ../output/K2_L10\n",
      "UPDATING TRAJECTORIES\n",
      "INFO:tensorflow:Optimization terminated with:\n",
      "  Message: b'CONVERGENCE: REL_REDUCTION_OF_F_<=_FACTR*EPSMCH'\n",
      "  Objective function value: 3586716.006384\n",
      "  Number of iterations: 32\n",
      "  Number of functions evaluations: 34\n"
     ]
    },
    {
     "name": "stderr",
     "output_type": "stream",
     "text": [
      "INFO:tensorflow:Optimization terminated with:\n",
      "  Message: b'CONVERGENCE: REL_REDUCTION_OF_F_<=_FACTR*EPSMCH'\n",
      "  Objective function value: 3586716.006384\n",
      "  Number of iterations: 32\n",
      "  Number of functions evaluations: 34\n"
     ]
    },
    {
     "name": "stdout",
     "output_type": "stream",
     "text": [
      "UPDATING HYPERPARAMETERS\n",
      "UPDATING ASSIGNMENTS\n",
      "0.024646231271970014\n",
      "SAVING:  ../output/K2_L10\n",
      "UPDATING TRAJECTORIES\n",
      "INFO:tensorflow:Optimization terminated with:\n",
      "  Message: b'CONVERGENCE: REL_REDUCTION_OF_F_<=_FACTR*EPSMCH'\n",
      "  Objective function value: 3571919.435044\n",
      "  Number of iterations: 16\n",
      "  Number of functions evaluations: 18\n"
     ]
    },
    {
     "name": "stderr",
     "output_type": "stream",
     "text": [
      "INFO:tensorflow:Optimization terminated with:\n",
      "  Message: b'CONVERGENCE: REL_REDUCTION_OF_F_<=_FACTR*EPSMCH'\n",
      "  Objective function value: 3571919.435044\n",
      "  Number of iterations: 16\n",
      "  Number of functions evaluations: 18\n"
     ]
    },
    {
     "name": "stdout",
     "output_type": "stream",
     "text": [
      "UPDATING HYPERPARAMETERS\n",
      "UPDATING ASSIGNMENTS\n",
      "0.0010488134008433104\n",
      "SAVING:  ../output/K2_L10\n",
      "UPDATING TRAJECTORIES\n",
      "INFO:tensorflow:Optimization terminated with:\n",
      "  Message: b'CONVERGENCE: REL_REDUCTION_OF_F_<=_FACTR*EPSMCH'\n",
      "  Objective function value: 3560231.537229\n",
      "  Number of iterations: 18\n",
      "  Number of functions evaluations: 21\n"
     ]
    },
    {
     "name": "stderr",
     "output_type": "stream",
     "text": [
      "INFO:tensorflow:Optimization terminated with:\n",
      "  Message: b'CONVERGENCE: REL_REDUCTION_OF_F_<=_FACTR*EPSMCH'\n",
      "  Objective function value: 3560231.537229\n",
      "  Number of iterations: 18\n",
      "  Number of functions evaluations: 21\n"
     ]
    },
    {
     "name": "stdout",
     "output_type": "stream",
     "text": [
      "UPDATING HYPERPARAMETERS\n",
      "UPDATING ASSIGNMENTS\n",
      "0.002009028552897062\n",
      "SAVING:  ../output/K2_L10\n",
      "UPDATING TRAJECTORIES\n",
      "INFO:tensorflow:Optimization terminated with:\n",
      "  Message: b'CONVERGENCE: REL_REDUCTION_OF_F_<=_FACTR*EPSMCH'\n",
      "  Objective function value: 3553429.538041\n",
      "  Number of iterations: 13\n",
      "  Number of functions evaluations: 15\n"
     ]
    },
    {
     "name": "stderr",
     "output_type": "stream",
     "text": [
      "INFO:tensorflow:Optimization terminated with:\n",
      "  Message: b'CONVERGENCE: REL_REDUCTION_OF_F_<=_FACTR*EPSMCH'\n",
      "  Objective function value: 3553429.538041\n",
      "  Number of iterations: 13\n",
      "  Number of functions evaluations: 15\n"
     ]
    },
    {
     "name": "stdout",
     "output_type": "stream",
     "text": [
      "UPDATING HYPERPARAMETERS\n",
      "UPDATING ASSIGNMENTS\n",
      "0.0008226093151751108\n",
      "SAVING:  ../output/K2_L10\n",
      "UPDATING TRAJECTORIES\n",
      "INFO:tensorflow:Optimization terminated with:\n",
      "  Message: b'CONVERGENCE: REL_REDUCTION_OF_F_<=_FACTR*EPSMCH'\n",
      "  Objective function value: 3527979.600839\n",
      "  Number of iterations: 17\n",
      "  Number of functions evaluations: 19\n"
     ]
    },
    {
     "name": "stderr",
     "output_type": "stream",
     "text": [
      "INFO:tensorflow:Optimization terminated with:\n",
      "  Message: b'CONVERGENCE: REL_REDUCTION_OF_F_<=_FACTR*EPSMCH'\n",
      "  Objective function value: 3527979.600839\n",
      "  Number of iterations: 17\n",
      "  Number of functions evaluations: 19\n"
     ]
    },
    {
     "name": "stdout",
     "output_type": "stream",
     "text": [
      "UPDATING HYPERPARAMETERS\n",
      "UPDATING ASSIGNMENTS\n",
      "0.0015224483454067666\n",
      "SAVING:  ../output/K2_L10\n",
      "UPDATING TRAJECTORIES\n",
      "INFO:tensorflow:Optimization terminated with:\n",
      "  Message: b'CONVERGENCE: REL_REDUCTION_OF_F_<=_FACTR*EPSMCH'\n",
      "  Objective function value: 3521686.085151\n",
      "  Number of iterations: 18\n",
      "  Number of functions evaluations: 20\n"
     ]
    },
    {
     "name": "stderr",
     "output_type": "stream",
     "text": [
      "INFO:tensorflow:Optimization terminated with:\n",
      "  Message: b'CONVERGENCE: REL_REDUCTION_OF_F_<=_FACTR*EPSMCH'\n",
      "  Objective function value: 3521686.085151\n",
      "  Number of iterations: 18\n",
      "  Number of functions evaluations: 20\n"
     ]
    },
    {
     "name": "stdout",
     "output_type": "stream",
     "text": [
      "UPDATING HYPERPARAMETERS\n",
      "UPDATING ASSIGNMENTS\n",
      "0.00197103259100554\n",
      "SAVING:  ../output/K2_L10\n",
      "UPDATING TRAJECTORIES\n",
      "INFO:tensorflow:Optimization terminated with:\n",
      "  Message: b'CONVERGENCE: REL_REDUCTION_OF_F_<=_FACTR*EPSMCH'\n",
      "  Objective function value: 3497683.019204\n",
      "  Number of iterations: 37\n",
      "  Number of functions evaluations: 40\n"
     ]
    },
    {
     "name": "stderr",
     "output_type": "stream",
     "text": [
      "INFO:tensorflow:Optimization terminated with:\n",
      "  Message: b'CONVERGENCE: REL_REDUCTION_OF_F_<=_FACTR*EPSMCH'\n",
      "  Objective function value: 3497683.019204\n",
      "  Number of iterations: 37\n",
      "  Number of functions evaluations: 40\n"
     ]
    },
    {
     "name": "stdout",
     "output_type": "stream",
     "text": [
      "UPDATING HYPERPARAMETERS\n",
      "UPDATING ASSIGNMENTS\n",
      "0.10419761123648921\n",
      "SAVING:  ../output/K2_L10\n",
      "UPDATING TRAJECTORIES\n",
      "INFO:tensorflow:Optimization terminated with:\n",
      "  Message: b'CONVERGENCE: REL_REDUCTION_OF_F_<=_FACTR*EPSMCH'\n",
      "  Objective function value: 3499049.157107\n",
      "  Number of iterations: 41\n",
      "  Number of functions evaluations: 44\n"
     ]
    },
    {
     "name": "stderr",
     "output_type": "stream",
     "text": [
      "INFO:tensorflow:Optimization terminated with:\n",
      "  Message: b'CONVERGENCE: REL_REDUCTION_OF_F_<=_FACTR*EPSMCH'\n",
      "  Objective function value: 3499049.157107\n",
      "  Number of iterations: 41\n",
      "  Number of functions evaluations: 44\n"
     ]
    },
    {
     "name": "stdout",
     "output_type": "stream",
     "text": [
      "UPDATING HYPERPARAMETERS\n",
      "UPDATING ASSIGNMENTS\n",
      "0.0905845908127345\n",
      "SAVING:  ../output/K2_L10\n",
      "UPDATING TRAJECTORIES\n",
      "INFO:tensorflow:Optimization terminated with:\n",
      "  Message: b'CONVERGENCE: REL_REDUCTION_OF_F_<=_FACTR*EPSMCH'\n",
      "  Objective function value: 3487048.060778\n",
      "  Number of iterations: 20\n",
      "  Number of functions evaluations: 23\n"
     ]
    },
    {
     "name": "stderr",
     "output_type": "stream",
     "text": [
      "INFO:tensorflow:Optimization terminated with:\n",
      "  Message: b'CONVERGENCE: REL_REDUCTION_OF_F_<=_FACTR*EPSMCH'\n",
      "  Objective function value: 3487048.060778\n",
      "  Number of iterations: 20\n",
      "  Number of functions evaluations: 23\n"
     ]
    },
    {
     "name": "stdout",
     "output_type": "stream",
     "text": [
      "UPDATING HYPERPARAMETERS\n",
      "UPDATING ASSIGNMENTS\n",
      "0.00451202215532704\n",
      "SAVING:  ../output/K2_L10\n",
      "UPDATING TRAJECTORIES\n",
      "INFO:tensorflow:Optimization terminated with:\n",
      "  Message: b'CONVERGENCE: REL_REDUCTION_OF_F_<=_FACTR*EPSMCH'\n",
      "  Objective function value: 3456534.513427\n",
      "  Number of iterations: 22\n",
      "  Number of functions evaluations: 24\n"
     ]
    },
    {
     "name": "stderr",
     "output_type": "stream",
     "text": [
      "INFO:tensorflow:Optimization terminated with:\n",
      "  Message: b'CONVERGENCE: REL_REDUCTION_OF_F_<=_FACTR*EPSMCH'\n",
      "  Objective function value: 3456534.513427\n",
      "  Number of iterations: 22\n",
      "  Number of functions evaluations: 24\n"
     ]
    },
    {
     "name": "stdout",
     "output_type": "stream",
     "text": [
      "UPDATING HYPERPARAMETERS\n",
      "UPDATING ASSIGNMENTS\n",
      "0.005489548707587312\n",
      "SAVING:  ../output/K2_L10\n",
      "UPDATING TRAJECTORIES\n",
      "INFO:tensorflow:Optimization terminated with:\n",
      "  Message: b'CONVERGENCE: REL_REDUCTION_OF_F_<=_FACTR*EPSMCH'\n",
      "  Objective function value: 3460323.371489\n",
      "  Number of iterations: 13\n",
      "  Number of functions evaluations: 15\n"
     ]
    },
    {
     "name": "stderr",
     "output_type": "stream",
     "text": [
      "INFO:tensorflow:Optimization terminated with:\n",
      "  Message: b'CONVERGENCE: REL_REDUCTION_OF_F_<=_FACTR*EPSMCH'\n",
      "  Objective function value: 3460323.371489\n",
      "  Number of iterations: 13\n",
      "  Number of functions evaluations: 15\n"
     ]
    },
    {
     "name": "stdout",
     "output_type": "stream",
     "text": [
      "UPDATING HYPERPARAMETERS\n",
      "UPDATING ASSIGNMENTS\n",
      "0.0009224794602222831\n",
      "SAVING:  ../output/K2_L10\n",
      "UPDATING TRAJECTORIES\n",
      "INFO:tensorflow:Optimization terminated with:\n",
      "  Message: b'CONVERGENCE: REL_REDUCTION_OF_F_<=_FACTR*EPSMCH'\n",
      "  Objective function value: 3453075.577632\n",
      "  Number of iterations: 24\n",
      "  Number of functions evaluations: 26\n"
     ]
    },
    {
     "name": "stderr",
     "output_type": "stream",
     "text": [
      "INFO:tensorflow:Optimization terminated with:\n",
      "  Message: b'CONVERGENCE: REL_REDUCTION_OF_F_<=_FACTR*EPSMCH'\n",
      "  Objective function value: 3453075.577632\n",
      "  Number of iterations: 24\n",
      "  Number of functions evaluations: 26\n"
     ]
    },
    {
     "name": "stdout",
     "output_type": "stream",
     "text": [
      "UPDATING HYPERPARAMETERS\n",
      "UPDATING ASSIGNMENTS\n",
      "0.009564976292350775\n",
      "SAVING:  ../output/K2_L10\n",
      "UPDATING TRAJECTORIES\n",
      "INFO:tensorflow:Optimization terminated with:\n",
      "  Message: b'CONVERGENCE: REL_REDUCTION_OF_F_<=_FACTR*EPSMCH'\n",
      "  Objective function value: 3459604.853978\n",
      "  Number of iterations: 38\n",
      "  Number of functions evaluations: 41\n"
     ]
    },
    {
     "name": "stderr",
     "output_type": "stream",
     "text": [
      "INFO:tensorflow:Optimization terminated with:\n",
      "  Message: b'CONVERGENCE: REL_REDUCTION_OF_F_<=_FACTR*EPSMCH'\n",
      "  Objective function value: 3459604.853978\n",
      "  Number of iterations: 38\n",
      "  Number of functions evaluations: 41\n"
     ]
    },
    {
     "name": "stdout",
     "output_type": "stream",
     "text": [
      "UPDATING HYPERPARAMETERS\n",
      "UPDATING ASSIGNMENTS\n",
      "0.046859840602759995\n",
      "SAVING:  ../output/K2_L10\n",
      "UPDATING TRAJECTORIES\n",
      "INFO:tensorflow:Optimization terminated with:\n",
      "  Message: b'CONVERGENCE: REL_REDUCTION_OF_F_<=_FACTR*EPSMCH'\n",
      "  Objective function value: 3443504.284533\n",
      "  Number of iterations: 24\n",
      "  Number of functions evaluations: 26\n"
     ]
    },
    {
     "name": "stderr",
     "output_type": "stream",
     "text": [
      "INFO:tensorflow:Optimization terminated with:\n",
      "  Message: b'CONVERGENCE: REL_REDUCTION_OF_F_<=_FACTR*EPSMCH'\n",
      "  Objective function value: 3443504.284533\n",
      "  Number of iterations: 24\n",
      "  Number of functions evaluations: 26\n"
     ]
    },
    {
     "name": "stdout",
     "output_type": "stream",
     "text": [
      "UPDATING HYPERPARAMETERS\n",
      "UPDATING ASSIGNMENTS\n",
      "0.015783651070708973\n",
      "SAVING:  ../output/K2_L10\n",
      "UPDATING TRAJECTORIES\n",
      "INFO:tensorflow:Optimization terminated with:\n",
      "  Message: b'CONVERGENCE: REL_REDUCTION_OF_F_<=_FACTR*EPSMCH'\n",
      "  Objective function value: 3435636.711094\n",
      "  Number of iterations: 13\n",
      "  Number of functions evaluations: 15\n"
     ]
    },
    {
     "name": "stderr",
     "output_type": "stream",
     "text": [
      "INFO:tensorflow:Optimization terminated with:\n",
      "  Message: b'CONVERGENCE: REL_REDUCTION_OF_F_<=_FACTR*EPSMCH'\n",
      "  Objective function value: 3435636.711094\n",
      "  Number of iterations: 13\n",
      "  Number of functions evaluations: 15\n"
     ]
    },
    {
     "name": "stdout",
     "output_type": "stream",
     "text": [
      "UPDATING HYPERPARAMETERS\n",
      "UPDATING ASSIGNMENTS\n",
      "0.002152933025613693\n",
      "SAVING:  ../output/K2_L10\n",
      "UPDATING TRAJECTORIES\n",
      "INFO:tensorflow:Optimization terminated with:\n",
      "  Message: b'CONVERGENCE: REL_REDUCTION_OF_F_<=_FACTR*EPSMCH'\n",
      "  Objective function value: 3473642.374253\n",
      "  Number of iterations: 19\n",
      "  Number of functions evaluations: 22\n"
     ]
    },
    {
     "name": "stderr",
     "output_type": "stream",
     "text": [
      "INFO:tensorflow:Optimization terminated with:\n",
      "  Message: b'CONVERGENCE: REL_REDUCTION_OF_F_<=_FACTR*EPSMCH'\n",
      "  Objective function value: 3473642.374253\n",
      "  Number of iterations: 19\n",
      "  Number of functions evaluations: 22\n"
     ]
    },
    {
     "name": "stdout",
     "output_type": "stream",
     "text": [
      "UPDATING HYPERPARAMETERS\n",
      "UPDATING ASSIGNMENTS\n",
      "0.0033567984578921637\n",
      "SAVING:  ../output/K2_L10\n",
      "UPDATING TRAJECTORIES\n",
      "INFO:tensorflow:Optimization terminated with:\n",
      "  Message: b'CONVERGENCE: REL_REDUCTION_OF_F_<=_FACTR*EPSMCH'\n",
      "  Objective function value: 3453352.631654\n",
      "  Number of iterations: 20\n",
      "  Number of functions evaluations: 23\n"
     ]
    },
    {
     "name": "stderr",
     "output_type": "stream",
     "text": [
      "INFO:tensorflow:Optimization terminated with:\n",
      "  Message: b'CONVERGENCE: REL_REDUCTION_OF_F_<=_FACTR*EPSMCH'\n",
      "  Objective function value: 3453352.631654\n",
      "  Number of iterations: 20\n",
      "  Number of functions evaluations: 23\n"
     ]
    },
    {
     "name": "stdout",
     "output_type": "stream",
     "text": [
      "UPDATING HYPERPARAMETERS\n",
      "UPDATING ASSIGNMENTS\n",
      "0.004884595645100791\n",
      "SAVING:  ../output/K2_L10\n",
      "UPDATING TRAJECTORIES\n",
      "INFO:tensorflow:Optimization terminated with:\n",
      "  Message: b'CONVERGENCE: REL_REDUCTION_OF_F_<=_FACTR*EPSMCH'\n",
      "  Objective function value: 3459317.635623\n",
      "  Number of iterations: 21\n",
      "  Number of functions evaluations: 23\n"
     ]
    },
    {
     "name": "stderr",
     "output_type": "stream",
     "text": [
      "INFO:tensorflow:Optimization terminated with:\n",
      "  Message: b'CONVERGENCE: REL_REDUCTION_OF_F_<=_FACTR*EPSMCH'\n",
      "  Objective function value: 3459317.635623\n",
      "  Number of iterations: 21\n",
      "  Number of functions evaluations: 23\n"
     ]
    },
    {
     "name": "stdout",
     "output_type": "stream",
     "text": [
      "UPDATING HYPERPARAMETERS\n",
      "UPDATING ASSIGNMENTS\n",
      "0.005897394266999404\n",
      "SAVING:  ../output/K2_L10\n",
      "UPDATING TRAJECTORIES\n",
      "INFO:tensorflow:Optimization terminated with:\n",
      "  Message: b'CONVERGENCE: REL_REDUCTION_OF_F_<=_FACTR*EPSMCH'\n",
      "  Objective function value: 3451015.498863\n",
      "  Number of iterations: 23\n",
      "  Number of functions evaluations: 25\n"
     ]
    },
    {
     "name": "stderr",
     "output_type": "stream",
     "text": [
      "INFO:tensorflow:Optimization terminated with:\n",
      "  Message: b'CONVERGENCE: REL_REDUCTION_OF_F_<=_FACTR*EPSMCH'\n",
      "  Objective function value: 3451015.498863\n",
      "  Number of iterations: 23\n",
      "  Number of functions evaluations: 25\n"
     ]
    },
    {
     "name": "stdout",
     "output_type": "stream",
     "text": [
      "UPDATING HYPERPARAMETERS\n",
      "UPDATING ASSIGNMENTS\n",
      "0.013834850509895268\n",
      "SAVING:  ../output/K2_L10\n",
      "UPDATING TRAJECTORIES\n",
      "INFO:tensorflow:Optimization terminated with:\n",
      "  Message: b'CONVERGENCE: REL_REDUCTION_OF_F_<=_FACTR*EPSMCH'\n",
      "  Objective function value: 3464542.647382\n",
      "  Number of iterations: 18\n",
      "  Number of functions evaluations: 21\n"
     ]
    },
    {
     "name": "stderr",
     "output_type": "stream",
     "text": [
      "INFO:tensorflow:Optimization terminated with:\n",
      "  Message: b'CONVERGENCE: REL_REDUCTION_OF_F_<=_FACTR*EPSMCH'\n",
      "  Objective function value: 3464542.647382\n",
      "  Number of iterations: 18\n",
      "  Number of functions evaluations: 21\n"
     ]
    },
    {
     "name": "stdout",
     "output_type": "stream",
     "text": [
      "UPDATING HYPERPARAMETERS\n",
      "UPDATING ASSIGNMENTS\n",
      "0.0014122575827347072\n",
      "SAVING:  ../output/K2_L10\n",
      "UPDATING TRAJECTORIES\n",
      "INFO:tensorflow:Optimization terminated with:\n",
      "  Message: b'CONVERGENCE: REL_REDUCTION_OF_F_<=_FACTR*EPSMCH'\n",
      "  Objective function value: 3487420.288295\n",
      "  Number of iterations: 35\n",
      "  Number of functions evaluations: 37\n"
     ]
    },
    {
     "name": "stderr",
     "output_type": "stream",
     "text": [
      "INFO:tensorflow:Optimization terminated with:\n",
      "  Message: b'CONVERGENCE: REL_REDUCTION_OF_F_<=_FACTR*EPSMCH'\n",
      "  Objective function value: 3487420.288295\n",
      "  Number of iterations: 35\n",
      "  Number of functions evaluations: 37\n"
     ]
    },
    {
     "name": "stdout",
     "output_type": "stream",
     "text": [
      "UPDATING HYPERPARAMETERS\n",
      "UPDATING ASSIGNMENTS\n",
      "0.033148288949040663\n",
      "SAVING:  ../output/K2_L10\n",
      "UPDATING TRAJECTORIES\n",
      "INFO:tensorflow:Optimization terminated with:\n",
      "  Message: b'CONVERGENCE: REL_REDUCTION_OF_F_<=_FACTR*EPSMCH'\n",
      "  Objective function value: 3494272.301596\n",
      "  Number of iterations: 24\n",
      "  Number of functions evaluations: 27\n"
     ]
    },
    {
     "name": "stderr",
     "output_type": "stream",
     "text": [
      "INFO:tensorflow:Optimization terminated with:\n",
      "  Message: b'CONVERGENCE: REL_REDUCTION_OF_F_<=_FACTR*EPSMCH'\n",
      "  Objective function value: 3494272.301596\n",
      "  Number of iterations: 24\n",
      "  Number of functions evaluations: 27\n"
     ]
    },
    {
     "name": "stdout",
     "output_type": "stream",
     "text": [
      "UPDATING HYPERPARAMETERS\n",
      "UPDATING ASSIGNMENTS\n",
      "0.00670704773795423\n",
      "SAVING:  ../output/K2_L10\n",
      "UPDATING TRAJECTORIES\n",
      "INFO:tensorflow:Optimization terminated with:\n",
      "  Message: b'CONVERGENCE: REL_REDUCTION_OF_F_<=_FACTR*EPSMCH'\n",
      "  Objective function value: 3489114.264160\n",
      "  Number of iterations: 36\n",
      "  Number of functions evaluations: 39\n"
     ]
    },
    {
     "name": "stderr",
     "output_type": "stream",
     "text": [
      "INFO:tensorflow:Optimization terminated with:\n",
      "  Message: b'CONVERGENCE: REL_REDUCTION_OF_F_<=_FACTR*EPSMCH'\n",
      "  Objective function value: 3489114.264160\n",
      "  Number of iterations: 36\n",
      "  Number of functions evaluations: 39\n"
     ]
    },
    {
     "name": "stdout",
     "output_type": "stream",
     "text": [
      "UPDATING HYPERPARAMETERS\n",
      "UPDATING ASSIGNMENTS\n",
      "0.030374925051278198\n",
      "SAVING:  ../output/K2_L10\n",
      "UPDATING TRAJECTORIES\n",
      "INFO:tensorflow:Optimization terminated with:\n",
      "  Message: b'CONVERGENCE: REL_REDUCTION_OF_F_<=_FACTR*EPSMCH'\n",
      "  Objective function value: 3524899.965986\n",
      "  Number of iterations: 18\n",
      "  Number of functions evaluations: 20\n"
     ]
    },
    {
     "name": "stderr",
     "output_type": "stream",
     "text": [
      "INFO:tensorflow:Optimization terminated with:\n",
      "  Message: b'CONVERGENCE: REL_REDUCTION_OF_F_<=_FACTR*EPSMCH'\n",
      "  Objective function value: 3524899.965986\n",
      "  Number of iterations: 18\n",
      "  Number of functions evaluations: 20\n"
     ]
    },
    {
     "name": "stdout",
     "output_type": "stream",
     "text": [
      "UPDATING HYPERPARAMETERS\n",
      "UPDATING ASSIGNMENTS\n",
      "0.005435954185368089\n",
      "SAVING:  ../output/K2_L10\n",
      "UPDATING TRAJECTORIES\n",
      "INFO:tensorflow:Optimization terminated with:\n",
      "  Message: b'CONVERGENCE: REL_REDUCTION_OF_F_<=_FACTR*EPSMCH'\n",
      "  Objective function value: 3523681.553134\n",
      "  Number of iterations: 38\n",
      "  Number of functions evaluations: 41\n"
     ]
    },
    {
     "name": "stderr",
     "output_type": "stream",
     "text": [
      "INFO:tensorflow:Optimization terminated with:\n",
      "  Message: b'CONVERGENCE: REL_REDUCTION_OF_F_<=_FACTR*EPSMCH'\n",
      "  Objective function value: 3523681.553134\n",
      "  Number of iterations: 38\n",
      "  Number of functions evaluations: 41\n"
     ]
    },
    {
     "name": "stdout",
     "output_type": "stream",
     "text": [
      "UPDATING HYPERPARAMETERS\n",
      "UPDATING ASSIGNMENTS\n",
      "0.04074963567051659\n",
      "SAVING:  ../output/K2_L10\n",
      "UPDATING TRAJECTORIES\n",
      "INFO:tensorflow:Optimization terminated with:\n",
      "  Message: b'CONVERGENCE: REL_REDUCTION_OF_F_<=_FACTR*EPSMCH'\n",
      "  Objective function value: 3558609.023124\n",
      "  Number of iterations: 19\n",
      "  Number of functions evaluations: 21\n"
     ]
    },
    {
     "name": "stderr",
     "output_type": "stream",
     "text": [
      "INFO:tensorflow:Optimization terminated with:\n",
      "  Message: b'CONVERGENCE: REL_REDUCTION_OF_F_<=_FACTR*EPSMCH'\n",
      "  Objective function value: 3558609.023124\n",
      "  Number of iterations: 19\n",
      "  Number of functions evaluations: 21\n"
     ]
    },
    {
     "name": "stdout",
     "output_type": "stream",
     "text": [
      "UPDATING HYPERPARAMETERS\n",
      "UPDATING ASSIGNMENTS\n",
      "0.0024346506418925565\n",
      "SAVING:  ../output/K2_L10\n",
      "UPDATING TRAJECTORIES\n",
      "INFO:tensorflow:Optimization terminated with:\n",
      "  Message: b'CONVERGENCE: REL_REDUCTION_OF_F_<=_FACTR*EPSMCH'\n",
      "  Objective function value: 3563008.668701\n",
      "  Number of iterations: 18\n",
      "  Number of functions evaluations: 20\n"
     ]
    },
    {
     "name": "stderr",
     "output_type": "stream",
     "text": [
      "INFO:tensorflow:Optimization terminated with:\n",
      "  Message: b'CONVERGENCE: REL_REDUCTION_OF_F_<=_FACTR*EPSMCH'\n",
      "  Objective function value: 3563008.668701\n",
      "  Number of iterations: 18\n",
      "  Number of functions evaluations: 20\n"
     ]
    },
    {
     "name": "stdout",
     "output_type": "stream",
     "text": [
      "UPDATING HYPERPARAMETERS\n",
      "UPDATING ASSIGNMENTS\n",
      "0.003791442250483326\n",
      "SAVING:  ../output/K2_L10\n",
      "UPDATING TRAJECTORIES\n",
      "INFO:tensorflow:Optimization terminated with:\n",
      "  Message: b'CONVERGENCE: REL_REDUCTION_OF_F_<=_FACTR*EPSMCH'\n",
      "  Objective function value: 3575646.050181\n",
      "  Number of iterations: 15\n",
      "  Number of functions evaluations: 17\n"
     ]
    },
    {
     "name": "stderr",
     "output_type": "stream",
     "text": [
      "INFO:tensorflow:Optimization terminated with:\n",
      "  Message: b'CONVERGENCE: REL_REDUCTION_OF_F_<=_FACTR*EPSMCH'\n",
      "  Objective function value: 3575646.050181\n",
      "  Number of iterations: 15\n",
      "  Number of functions evaluations: 17\n"
     ]
    },
    {
     "name": "stdout",
     "output_type": "stream",
     "text": [
      "UPDATING HYPERPARAMETERS\n",
      "UPDATING ASSIGNMENTS\n",
      "0.0007019369999299167\n",
      "SAVING:  ../output/K2_L10\n",
      "UPDATING TRAJECTORIES\n",
      "INFO:tensorflow:Optimization terminated with:\n",
      "  Message: b'CONVERGENCE: REL_REDUCTION_OF_F_<=_FACTR*EPSMCH'\n",
      "  Objective function value: 3576330.500228\n",
      "  Number of iterations: 23\n",
      "  Number of functions evaluations: 25\n"
     ]
    },
    {
     "name": "stderr",
     "output_type": "stream",
     "text": [
      "INFO:tensorflow:Optimization terminated with:\n",
      "  Message: b'CONVERGENCE: REL_REDUCTION_OF_F_<=_FACTR*EPSMCH'\n",
      "  Objective function value: 3576330.500228\n",
      "  Number of iterations: 23\n",
      "  Number of functions evaluations: 25\n"
     ]
    },
    {
     "name": "stdout",
     "output_type": "stream",
     "text": [
      "UPDATING HYPERPARAMETERS\n",
      "UPDATING ASSIGNMENTS\n",
      "0.011818157421442509\n",
      "SAVING:  ../output/K2_L10\n",
      "UPDATING TRAJECTORIES\n",
      "INFO:tensorflow:Optimization terminated with:\n",
      "  Message: b'CONVERGENCE: REL_REDUCTION_OF_F_<=_FACTR*EPSMCH'\n",
      "  Objective function value: 3553713.130012\n",
      "  Number of iterations: 20\n",
      "  Number of functions evaluations: 23\n"
     ]
    },
    {
     "name": "stderr",
     "output_type": "stream",
     "text": [
      "INFO:tensorflow:Optimization terminated with:\n",
      "  Message: b'CONVERGENCE: REL_REDUCTION_OF_F_<=_FACTR*EPSMCH'\n",
      "  Objective function value: 3553713.130012\n",
      "  Number of iterations: 20\n",
      "  Number of functions evaluations: 23\n"
     ]
    },
    {
     "name": "stdout",
     "output_type": "stream",
     "text": [
      "UPDATING HYPERPARAMETERS\n",
      "UPDATING ASSIGNMENTS\n",
      "0.0034307514337166014\n",
      "SAVING:  ../output/K2_L10\n",
      "UPDATING TRAJECTORIES\n",
      "INFO:tensorflow:Optimization terminated with:\n",
      "  Message: b'CONVERGENCE: REL_REDUCTION_OF_F_<=_FACTR*EPSMCH'\n",
      "  Objective function value: 3563818.202163\n",
      "  Number of iterations: 23\n",
      "  Number of functions evaluations: 25\n"
     ]
    },
    {
     "name": "stderr",
     "output_type": "stream",
     "text": [
      "INFO:tensorflow:Optimization terminated with:\n",
      "  Message: b'CONVERGENCE: REL_REDUCTION_OF_F_<=_FACTR*EPSMCH'\n",
      "  Objective function value: 3563818.202163\n",
      "  Number of iterations: 23\n",
      "  Number of functions evaluations: 25\n"
     ]
    },
    {
     "name": "stdout",
     "output_type": "stream",
     "text": [
      "UPDATING HYPERPARAMETERS\n",
      "UPDATING ASSIGNMENTS\n",
      "0.011446874942704119\n",
      "SAVING:  ../output/K2_L10\n",
      "UPDATING TRAJECTORIES\n",
      "INFO:tensorflow:Optimization terminated with:\n",
      "  Message: b'CONVERGENCE: REL_REDUCTION_OF_F_<=_FACTR*EPSMCH'\n",
      "  Objective function value: 3575842.298714\n",
      "  Number of iterations: 32\n",
      "  Number of functions evaluations: 35\n"
     ]
    },
    {
     "name": "stderr",
     "output_type": "stream",
     "text": [
      "INFO:tensorflow:Optimization terminated with:\n",
      "  Message: b'CONVERGENCE: REL_REDUCTION_OF_F_<=_FACTR*EPSMCH'\n",
      "  Objective function value: 3575842.298714\n",
      "  Number of iterations: 32\n",
      "  Number of functions evaluations: 35\n"
     ]
    },
    {
     "name": "stdout",
     "output_type": "stream",
     "text": [
      "UPDATING HYPERPARAMETERS\n",
      "UPDATING ASSIGNMENTS\n",
      "0.020976552932725476\n",
      "SAVING:  ../output/K2_L10\n",
      "UPDATING TRAJECTORIES\n",
      "INFO:tensorflow:Optimization terminated with:\n",
      "  Message: b'CONVERGENCE: REL_REDUCTION_OF_F_<=_FACTR*EPSMCH'\n",
      "  Objective function value: 3575976.467136\n",
      "  Number of iterations: 18\n",
      "  Number of functions evaluations: 20\n"
     ]
    },
    {
     "name": "stderr",
     "output_type": "stream",
     "text": [
      "INFO:tensorflow:Optimization terminated with:\n",
      "  Message: b'CONVERGENCE: REL_REDUCTION_OF_F_<=_FACTR*EPSMCH'\n",
      "  Objective function value: 3575976.467136\n",
      "  Number of iterations: 18\n",
      "  Number of functions evaluations: 20\n"
     ]
    },
    {
     "name": "stdout",
     "output_type": "stream",
     "text": [
      "UPDATING HYPERPARAMETERS\n",
      "UPDATING ASSIGNMENTS\n",
      "0.0036853436724309857\n",
      "SAVING:  ../output/K2_L10\n",
      "UPDATING TRAJECTORIES\n",
      "INFO:tensorflow:Optimization terminated with:\n",
      "  Message: b'CONVERGENCE: REL_REDUCTION_OF_F_<=_FACTR*EPSMCH'\n",
      "  Objective function value: 3537595.053927\n",
      "  Number of iterations: 8\n",
      "  Number of functions evaluations: 10\n"
     ]
    },
    {
     "name": "stderr",
     "output_type": "stream",
     "text": [
      "INFO:tensorflow:Optimization terminated with:\n",
      "  Message: b'CONVERGENCE: REL_REDUCTION_OF_F_<=_FACTR*EPSMCH'\n",
      "  Objective function value: 3537595.053927\n",
      "  Number of iterations: 8\n",
      "  Number of functions evaluations: 10\n"
     ]
    },
    {
     "name": "stdout",
     "output_type": "stream",
     "text": [
      "UPDATING HYPERPARAMETERS\n",
      "UPDATING ASSIGNMENTS\n",
      "0.00015191141477979332\n",
      "SAVING:  ../output/K2_L10\n",
      "UPDATING TRAJECTORIES\n",
      "INFO:tensorflow:Optimization terminated with:\n",
      "  Message: b'CONVERGENCE: REL_REDUCTION_OF_F_<=_FACTR*EPSMCH'\n",
      "  Objective function value: 3567904.540891\n",
      "  Number of iterations: 38\n",
      "  Number of functions evaluations: 40\n"
     ]
    },
    {
     "name": "stderr",
     "output_type": "stream",
     "text": [
      "INFO:tensorflow:Optimization terminated with:\n",
      "  Message: b'CONVERGENCE: REL_REDUCTION_OF_F_<=_FACTR*EPSMCH'\n",
      "  Objective function value: 3567904.540891\n",
      "  Number of iterations: 38\n",
      "  Number of functions evaluations: 40\n"
     ]
    },
    {
     "name": "stdout",
     "output_type": "stream",
     "text": [
      "UPDATING HYPERPARAMETERS\n",
      "UPDATING ASSIGNMENTS\n",
      "0.10014524398930266\n",
      "SAVING:  ../output/K2_L10\n",
      "UPDATING TRAJECTORIES\n",
      "INFO:tensorflow:Optimization terminated with:\n",
      "  Message: b'CONVERGENCE: REL_REDUCTION_OF_F_<=_FACTR*EPSMCH'\n",
      "  Objective function value: 3541271.600002\n",
      "  Number of iterations: 32\n",
      "  Number of functions evaluations: 34\n"
     ]
    },
    {
     "name": "stderr",
     "output_type": "stream",
     "text": [
      "INFO:tensorflow:Optimization terminated with:\n",
      "  Message: b'CONVERGENCE: REL_REDUCTION_OF_F_<=_FACTR*EPSMCH'\n",
      "  Objective function value: 3541271.600002\n",
      "  Number of iterations: 32\n",
      "  Number of functions evaluations: 34\n"
     ]
    },
    {
     "name": "stdout",
     "output_type": "stream",
     "text": [
      "UPDATING HYPERPARAMETERS\n",
      "UPDATING ASSIGNMENTS\n",
      "0.024087189133168645\n",
      "SAVING:  ../output/K2_L10\n",
      "UPDATING TRAJECTORIES\n",
      "INFO:tensorflow:Optimization terminated with:\n",
      "  Message: b'CONVERGENCE: REL_REDUCTION_OF_F_<=_FACTR*EPSMCH'\n",
      "  Objective function value: 3521736.323130\n",
      "  Number of iterations: 28\n",
      "  Number of functions evaluations: 32\n"
     ]
    },
    {
     "name": "stderr",
     "output_type": "stream",
     "text": [
      "INFO:tensorflow:Optimization terminated with:\n",
      "  Message: b'CONVERGENCE: REL_REDUCTION_OF_F_<=_FACTR*EPSMCH'\n",
      "  Objective function value: 3521736.323130\n",
      "  Number of iterations: 28\n",
      "  Number of functions evaluations: 32\n"
     ]
    },
    {
     "name": "stdout",
     "output_type": "stream",
     "text": [
      "UPDATING HYPERPARAMETERS\n",
      "UPDATING ASSIGNMENTS\n",
      "0.009099766309189537\n",
      "SAVING:  ../output/K2_L10\n",
      "UPDATING TRAJECTORIES\n",
      "INFO:tensorflow:Optimization terminated with:\n",
      "  Message: b'CONVERGENCE: REL_REDUCTION_OF_F_<=_FACTR*EPSMCH'\n",
      "  Objective function value: 3514859.704171\n",
      "  Number of iterations: 11\n",
      "  Number of functions evaluations: 13\n"
     ]
    },
    {
     "name": "stderr",
     "output_type": "stream",
     "text": [
      "INFO:tensorflow:Optimization terminated with:\n",
      "  Message: b'CONVERGENCE: REL_REDUCTION_OF_F_<=_FACTR*EPSMCH'\n",
      "  Objective function value: 3514859.704171\n",
      "  Number of iterations: 11\n",
      "  Number of functions evaluations: 13\n"
     ]
    },
    {
     "name": "stdout",
     "output_type": "stream",
     "text": [
      "UPDATING HYPERPARAMETERS\n",
      "UPDATING ASSIGNMENTS\n",
      "0.0005728324922568279\n",
      "SAVING:  ../output/K2_L10\n",
      "UPDATING TRAJECTORIES\n",
      "INFO:tensorflow:Optimization terminated with:\n",
      "  Message: b'CONVERGENCE: REL_REDUCTION_OF_F_<=_FACTR*EPSMCH'\n",
      "  Objective function value: 3492106.997791\n",
      "  Number of iterations: 13\n",
      "  Number of functions evaluations: 15\n"
     ]
    },
    {
     "name": "stderr",
     "output_type": "stream",
     "text": [
      "INFO:tensorflow:Optimization terminated with:\n",
      "  Message: b'CONVERGENCE: REL_REDUCTION_OF_F_<=_FACTR*EPSMCH'\n",
      "  Objective function value: 3492106.997791\n",
      "  Number of iterations: 13\n",
      "  Number of functions evaluations: 15\n"
     ]
    },
    {
     "name": "stdout",
     "output_type": "stream",
     "text": [
      "UPDATING HYPERPARAMETERS\n",
      "UPDATING ASSIGNMENTS\n",
      "0.0013729616418576974\n",
      "SAVING:  ../output/K2_L10\n",
      "UPDATING TRAJECTORIES\n",
      "INFO:tensorflow:Optimization terminated with:\n",
      "  Message: b'CONVERGENCE: REL_REDUCTION_OF_F_<=_FACTR*EPSMCH'\n",
      "  Objective function value: 3493534.050963\n",
      "  Number of iterations: 15\n",
      "  Number of functions evaluations: 17\n"
     ]
    },
    {
     "name": "stderr",
     "output_type": "stream",
     "text": [
      "INFO:tensorflow:Optimization terminated with:\n",
      "  Message: b'CONVERGENCE: REL_REDUCTION_OF_F_<=_FACTR*EPSMCH'\n",
      "  Objective function value: 3493534.050963\n",
      "  Number of iterations: 15\n",
      "  Number of functions evaluations: 17\n"
     ]
    },
    {
     "name": "stdout",
     "output_type": "stream",
     "text": [
      "UPDATING HYPERPARAMETERS\n",
      "UPDATING ASSIGNMENTS\n",
      "0.0012482418283977414\n",
      "SAVING:  ../output/K2_L10\n",
      "UPDATING TRAJECTORIES\n",
      "INFO:tensorflow:Optimization terminated with:\n",
      "  Message: b'CONVERGENCE: REL_REDUCTION_OF_F_<=_FACTR*EPSMCH'\n",
      "  Objective function value: 3471822.862249\n",
      "  Number of iterations: 15\n",
      "  Number of functions evaluations: 17\n"
     ]
    },
    {
     "name": "stderr",
     "output_type": "stream",
     "text": [
      "INFO:tensorflow:Optimization terminated with:\n",
      "  Message: b'CONVERGENCE: REL_REDUCTION_OF_F_<=_FACTR*EPSMCH'\n",
      "  Objective function value: 3471822.862249\n",
      "  Number of iterations: 15\n",
      "  Number of functions evaluations: 17\n"
     ]
    },
    {
     "name": "stdout",
     "output_type": "stream",
     "text": [
      "UPDATING HYPERPARAMETERS\n",
      "UPDATING ASSIGNMENTS\n",
      "0.0008206556494025476\n",
      "SAVING:  ../output/K2_L10\n",
      "UPDATING TRAJECTORIES\n",
      "INFO:tensorflow:Optimization terminated with:\n",
      "  Message: b'CONVERGENCE: REL_REDUCTION_OF_F_<=_FACTR*EPSMCH'\n",
      "  Objective function value: 3471986.089949\n",
      "  Number of iterations: 6\n",
      "  Number of functions evaluations: 8\n"
     ]
    },
    {
     "name": "stderr",
     "output_type": "stream",
     "text": [
      "INFO:tensorflow:Optimization terminated with:\n",
      "  Message: b'CONVERGENCE: REL_REDUCTION_OF_F_<=_FACTR*EPSMCH'\n",
      "  Objective function value: 3471986.089949\n",
      "  Number of iterations: 6\n",
      "  Number of functions evaluations: 8\n"
     ]
    },
    {
     "name": "stdout",
     "output_type": "stream",
     "text": [
      "UPDATING HYPERPARAMETERS\n",
      "UPDATING ASSIGNMENTS\n",
      "6.843586162877681e-05\n",
      "SAVING:  ../output/K2_L10\n",
      "UPDATING TRAJECTORIES\n",
      "INFO:tensorflow:Optimization terminated with:\n",
      "  Message: b'CONVERGENCE: REL_REDUCTION_OF_F_<=_FACTR*EPSMCH'\n",
      "  Objective function value: 3461953.415145\n",
      "  Number of iterations: 20\n",
      "  Number of functions evaluations: 22\n"
     ]
    },
    {
     "name": "stderr",
     "output_type": "stream",
     "text": [
      "INFO:tensorflow:Optimization terminated with:\n",
      "  Message: b'CONVERGENCE: REL_REDUCTION_OF_F_<=_FACTR*EPSMCH'\n",
      "  Objective function value: 3461953.415145\n",
      "  Number of iterations: 20\n",
      "  Number of functions evaluations: 22\n"
     ]
    },
    {
     "name": "stdout",
     "output_type": "stream",
     "text": [
      "UPDATING HYPERPARAMETERS\n",
      "UPDATING ASSIGNMENTS\n",
      "0.007040729635694319\n",
      "SAVING:  ../output/K2_L10\n",
      "UPDATING TRAJECTORIES\n",
      "INFO:tensorflow:Optimization terminated with:\n",
      "  Message: b'CONVERGENCE: REL_REDUCTION_OF_F_<=_FACTR*EPSMCH'\n",
      "  Objective function value: 3459176.073945\n",
      "  Number of iterations: 27\n",
      "  Number of functions evaluations: 30\n"
     ]
    },
    {
     "name": "stderr",
     "output_type": "stream",
     "text": [
      "INFO:tensorflow:Optimization terminated with:\n",
      "  Message: b'CONVERGENCE: REL_REDUCTION_OF_F_<=_FACTR*EPSMCH'\n",
      "  Objective function value: 3459176.073945\n",
      "  Number of iterations: 27\n",
      "  Number of functions evaluations: 30\n"
     ]
    },
    {
     "name": "stdout",
     "output_type": "stream",
     "text": [
      "UPDATING HYPERPARAMETERS\n",
      "UPDATING ASSIGNMENTS\n",
      "0.009729225741780357\n",
      "SAVING:  ../output/K2_L10\n",
      "UPDATING TRAJECTORIES\n",
      "INFO:tensorflow:Optimization terminated with:\n",
      "  Message: b'CONVERGENCE: REL_REDUCTION_OF_F_<=_FACTR*EPSMCH'\n",
      "  Objective function value: 3457189.689007\n",
      "  Number of iterations: 28\n",
      "  Number of functions evaluations: 30\n"
     ]
    },
    {
     "name": "stderr",
     "output_type": "stream",
     "text": [
      "INFO:tensorflow:Optimization terminated with:\n",
      "  Message: b'CONVERGENCE: REL_REDUCTION_OF_F_<=_FACTR*EPSMCH'\n",
      "  Objective function value: 3457189.689007\n",
      "  Number of iterations: 28\n",
      "  Number of functions evaluations: 30\n"
     ]
    },
    {
     "name": "stdout",
     "output_type": "stream",
     "text": [
      "UPDATING HYPERPARAMETERS\n",
      "UPDATING ASSIGNMENTS\n",
      "0.01764446227859839\n",
      "SAVING:  ../output/K2_L10\n",
      "UPDATING TRAJECTORIES\n",
      "INFO:tensorflow:Optimization terminated with:\n",
      "  Message: b'CONVERGENCE: REL_REDUCTION_OF_F_<=_FACTR*EPSMCH'\n",
      "  Objective function value: 3432990.575399\n",
      "  Number of iterations: 33\n",
      "  Number of functions evaluations: 36\n"
     ]
    },
    {
     "name": "stderr",
     "output_type": "stream",
     "text": [
      "INFO:tensorflow:Optimization terminated with:\n",
      "  Message: b'CONVERGENCE: REL_REDUCTION_OF_F_<=_FACTR*EPSMCH'\n",
      "  Objective function value: 3432990.575399\n",
      "  Number of iterations: 33\n",
      "  Number of functions evaluations: 36\n"
     ]
    },
    {
     "name": "stdout",
     "output_type": "stream",
     "text": [
      "UPDATING HYPERPARAMETERS\n",
      "UPDATING ASSIGNMENTS\n",
      "0.022805131219077075\n",
      "SAVING:  ../output/K2_L10\n",
      "UPDATING TRAJECTORIES\n",
      "INFO:tensorflow:Optimization terminated with:\n",
      "  Message: b'CONVERGENCE: REL_REDUCTION_OF_F_<=_FACTR*EPSMCH'\n",
      "  Objective function value: 3456004.480369\n",
      "  Number of iterations: 14\n",
      "  Number of functions evaluations: 16\n"
     ]
    },
    {
     "name": "stderr",
     "output_type": "stream",
     "text": [
      "INFO:tensorflow:Optimization terminated with:\n",
      "  Message: b'CONVERGENCE: REL_REDUCTION_OF_F_<=_FACTR*EPSMCH'\n",
      "  Objective function value: 3456004.480369\n",
      "  Number of iterations: 14\n",
      "  Number of functions evaluations: 16\n"
     ]
    },
    {
     "name": "stdout",
     "output_type": "stream",
     "text": [
      "UPDATING HYPERPARAMETERS\n",
      "UPDATING ASSIGNMENTS\n",
      "0.0016497160904074457\n",
      "SAVING:  ../output/K2_L10\n",
      "UPDATING TRAJECTORIES\n",
      "INFO:tensorflow:Optimization terminated with:\n",
      "  Message: b'CONVERGENCE: REL_REDUCTION_OF_F_<=_FACTR*EPSMCH'\n",
      "  Objective function value: 3452271.056607\n",
      "  Number of iterations: 13\n",
      "  Number of functions evaluations: 15\n"
     ]
    },
    {
     "name": "stderr",
     "output_type": "stream",
     "text": [
      "INFO:tensorflow:Optimization terminated with:\n",
      "  Message: b'CONVERGENCE: REL_REDUCTION_OF_F_<=_FACTR*EPSMCH'\n",
      "  Objective function value: 3452271.056607\n",
      "  Number of iterations: 13\n",
      "  Number of functions evaluations: 15\n"
     ]
    },
    {
     "name": "stdout",
     "output_type": "stream",
     "text": [
      "UPDATING HYPERPARAMETERS\n",
      "UPDATING ASSIGNMENTS\n",
      "0.0011897806855207076\n",
      "SAVING:  ../output/K2_L10\n",
      "UPDATING TRAJECTORIES\n",
      "INFO:tensorflow:Optimization terminated with:\n",
      "  Message: b'CONVERGENCE: REL_REDUCTION_OF_F_<=_FACTR*EPSMCH'\n",
      "  Objective function value: 3447146.937860\n",
      "  Number of iterations: 30\n",
      "  Number of functions evaluations: 33\n"
     ]
    },
    {
     "name": "stderr",
     "output_type": "stream",
     "text": [
      "INFO:tensorflow:Optimization terminated with:\n",
      "  Message: b'CONVERGENCE: REL_REDUCTION_OF_F_<=_FACTR*EPSMCH'\n",
      "  Objective function value: 3447146.937860\n",
      "  Number of iterations: 30\n",
      "  Number of functions evaluations: 33\n"
     ]
    },
    {
     "name": "stdout",
     "output_type": "stream",
     "text": [
      "UPDATING HYPERPARAMETERS\n",
      "UPDATING ASSIGNMENTS\n",
      "0.04271021951280279\n",
      "SAVING:  ../output/K2_L10\n",
      "UPDATING TRAJECTORIES\n",
      "INFO:tensorflow:Optimization terminated with:\n",
      "  Message: b'CONVERGENCE: REL_REDUCTION_OF_F_<=_FACTR*EPSMCH'\n",
      "  Objective function value: 3453088.707948\n",
      "  Number of iterations: 24\n",
      "  Number of functions evaluations: 27\n"
     ]
    },
    {
     "name": "stderr",
     "output_type": "stream",
     "text": [
      "INFO:tensorflow:Optimization terminated with:\n",
      "  Message: b'CONVERGENCE: REL_REDUCTION_OF_F_<=_FACTR*EPSMCH'\n",
      "  Objective function value: 3453088.707948\n",
      "  Number of iterations: 24\n",
      "  Number of functions evaluations: 27\n"
     ]
    },
    {
     "name": "stdout",
     "output_type": "stream",
     "text": [
      "UPDATING HYPERPARAMETERS\n",
      "UPDATING ASSIGNMENTS\n",
      "0.004637974629710594\n",
      "SAVING:  ../output/K2_L10\n",
      "UPDATING TRAJECTORIES\n",
      "INFO:tensorflow:Optimization terminated with:\n",
      "  Message: b'CONVERGENCE: REL_REDUCTION_OF_F_<=_FACTR*EPSMCH'\n",
      "  Objective function value: 3458190.568495\n",
      "  Number of iterations: 15\n",
      "  Number of functions evaluations: 17\n"
     ]
    },
    {
     "name": "stderr",
     "output_type": "stream",
     "text": [
      "INFO:tensorflow:Optimization terminated with:\n",
      "  Message: b'CONVERGENCE: REL_REDUCTION_OF_F_<=_FACTR*EPSMCH'\n",
      "  Objective function value: 3458190.568495\n",
      "  Number of iterations: 15\n",
      "  Number of functions evaluations: 17\n"
     ]
    },
    {
     "name": "stdout",
     "output_type": "stream",
     "text": [
      "UPDATING HYPERPARAMETERS\n",
      "UPDATING ASSIGNMENTS\n",
      "0.0006802303970528387\n",
      "SAVING:  ../output/K2_L10\n",
      "UPDATING TRAJECTORIES\n",
      "INFO:tensorflow:Optimization terminated with:\n",
      "  Message: b'CONVERGENCE: REL_REDUCTION_OF_F_<=_FACTR*EPSMCH'\n",
      "  Objective function value: 3467963.782008\n",
      "  Number of iterations: 28\n",
      "  Number of functions evaluations: 32\n"
     ]
    },
    {
     "name": "stderr",
     "output_type": "stream",
     "text": [
      "INFO:tensorflow:Optimization terminated with:\n",
      "  Message: b'CONVERGENCE: REL_REDUCTION_OF_F_<=_FACTR*EPSMCH'\n",
      "  Objective function value: 3467963.782008\n",
      "  Number of iterations: 28\n",
      "  Number of functions evaluations: 32\n"
     ]
    },
    {
     "name": "stdout",
     "output_type": "stream",
     "text": [
      "UPDATING HYPERPARAMETERS\n",
      "UPDATING ASSIGNMENTS\n",
      "0.009677880877714314\n",
      "SAVING:  ../output/K2_L10\n",
      "UPDATING TRAJECTORIES\n",
      "INFO:tensorflow:Optimization terminated with:\n",
      "  Message: b'CONVERGENCE: REL_REDUCTION_OF_F_<=_FACTR*EPSMCH'\n",
      "  Objective function value: 3475133.209741\n",
      "  Number of iterations: 18\n",
      "  Number of functions evaluations: 21\n"
     ]
    },
    {
     "name": "stderr",
     "output_type": "stream",
     "text": [
      "INFO:tensorflow:Optimization terminated with:\n",
      "  Message: b'CONVERGENCE: REL_REDUCTION_OF_F_<=_FACTR*EPSMCH'\n",
      "  Objective function value: 3475133.209741\n",
      "  Number of iterations: 18\n",
      "  Number of functions evaluations: 21\n"
     ]
    },
    {
     "name": "stdout",
     "output_type": "stream",
     "text": [
      "UPDATING HYPERPARAMETERS\n",
      "UPDATING ASSIGNMENTS\n",
      "0.002076009241237808\n",
      "SAVING:  ../output/K2_L10\n",
      "UPDATING TRAJECTORIES\n",
      "INFO:tensorflow:Optimization terminated with:\n",
      "  Message: b'CONVERGENCE: REL_REDUCTION_OF_F_<=_FACTR*EPSMCH'\n",
      "  Objective function value: 3492468.274470\n",
      "  Number of iterations: 20\n",
      "  Number of functions evaluations: 23\n"
     ]
    },
    {
     "name": "stderr",
     "output_type": "stream",
     "text": [
      "INFO:tensorflow:Optimization terminated with:\n",
      "  Message: b'CONVERGENCE: REL_REDUCTION_OF_F_<=_FACTR*EPSMCH'\n",
      "  Objective function value: 3492468.274470\n",
      "  Number of iterations: 20\n",
      "  Number of functions evaluations: 23\n"
     ]
    },
    {
     "name": "stdout",
     "output_type": "stream",
     "text": [
      "UPDATING HYPERPARAMETERS\n",
      "UPDATING ASSIGNMENTS\n",
      "0.0030150288165011804\n",
      "SAVING:  ../output/K2_L10\n",
      "UPDATING TRAJECTORIES\n",
      "INFO:tensorflow:Optimization terminated with:\n",
      "  Message: b'CONVERGENCE: REL_REDUCTION_OF_F_<=_FACTR*EPSMCH'\n",
      "  Objective function value: 3510697.571715\n",
      "  Number of iterations: 24\n",
      "  Number of functions evaluations: 26\n"
     ]
    },
    {
     "name": "stderr",
     "output_type": "stream",
     "text": [
      "INFO:tensorflow:Optimization terminated with:\n",
      "  Message: b'CONVERGENCE: REL_REDUCTION_OF_F_<=_FACTR*EPSMCH'\n",
      "  Objective function value: 3510697.571715\n",
      "  Number of iterations: 24\n",
      "  Number of functions evaluations: 26\n"
     ]
    },
    {
     "name": "stdout",
     "output_type": "stream",
     "text": [
      "UPDATING HYPERPARAMETERS\n",
      "UPDATING ASSIGNMENTS\n",
      "0.007289480110419134\n",
      "SAVING:  ../output/K2_L10\n",
      "UPDATING TRAJECTORIES\n",
      "INFO:tensorflow:Optimization terminated with:\n",
      "  Message: b'CONVERGENCE: REL_REDUCTION_OF_F_<=_FACTR*EPSMCH'\n",
      "  Objective function value: 3530380.202329\n",
      "  Number of iterations: 39\n",
      "  Number of functions evaluations: 43\n"
     ]
    },
    {
     "name": "stderr",
     "output_type": "stream",
     "text": [
      "INFO:tensorflow:Optimization terminated with:\n",
      "  Message: b'CONVERGENCE: REL_REDUCTION_OF_F_<=_FACTR*EPSMCH'\n",
      "  Objective function value: 3530380.202329\n",
      "  Number of iterations: 39\n",
      "  Number of functions evaluations: 43\n"
     ]
    },
    {
     "name": "stdout",
     "output_type": "stream",
     "text": [
      "UPDATING HYPERPARAMETERS\n",
      "UPDATING ASSIGNMENTS\n",
      "0.07384747940567224\n",
      "SAVING:  ../output/K2_L10\n",
      "UPDATING TRAJECTORIES\n",
      "INFO:tensorflow:Optimization terminated with:\n",
      "  Message: b'CONVERGENCE: REL_REDUCTION_OF_F_<=_FACTR*EPSMCH'\n",
      "  Objective function value: 3553275.490665\n",
      "  Number of iterations: 18\n",
      "  Number of functions evaluations: 21\n"
     ]
    },
    {
     "name": "stderr",
     "output_type": "stream",
     "text": [
      "INFO:tensorflow:Optimization terminated with:\n",
      "  Message: b'CONVERGENCE: REL_REDUCTION_OF_F_<=_FACTR*EPSMCH'\n",
      "  Objective function value: 3553275.490665\n",
      "  Number of iterations: 18\n",
      "  Number of functions evaluations: 21\n"
     ]
    },
    {
     "name": "stdout",
     "output_type": "stream",
     "text": [
      "UPDATING HYPERPARAMETERS\n",
      "UPDATING ASSIGNMENTS\n",
      "0.002070078426088457\n",
      "SAVING:  ../output/K2_L10\n",
      "UPDATING TRAJECTORIES\n",
      "INFO:tensorflow:Optimization terminated with:\n",
      "  Message: b'CONVERGENCE: REL_REDUCTION_OF_F_<=_FACTR*EPSMCH'\n",
      "  Objective function value: 3562811.873952\n",
      "  Number of iterations: 18\n",
      "  Number of functions evaluations: 20\n"
     ]
    },
    {
     "name": "stderr",
     "output_type": "stream",
     "text": [
      "INFO:tensorflow:Optimization terminated with:\n",
      "  Message: b'CONVERGENCE: REL_REDUCTION_OF_F_<=_FACTR*EPSMCH'\n",
      "  Objective function value: 3562811.873952\n",
      "  Number of iterations: 18\n",
      "  Number of functions evaluations: 20\n"
     ]
    },
    {
     "name": "stdout",
     "output_type": "stream",
     "text": [
      "UPDATING HYPERPARAMETERS\n",
      "UPDATING ASSIGNMENTS\n",
      "0.0029269898809984266\n",
      "SAVING:  ../output/K2_L10\n",
      "UPDATING TRAJECTORIES\n",
      "INFO:tensorflow:Optimization terminated with:\n",
      "  Message: b'CONVERGENCE: REL_REDUCTION_OF_F_<=_FACTR*EPSMCH'\n",
      "  Objective function value: 3567267.928037\n",
      "  Number of iterations: 22\n",
      "  Number of functions evaluations: 24\n"
     ]
    },
    {
     "name": "stderr",
     "output_type": "stream",
     "text": [
      "INFO:tensorflow:Optimization terminated with:\n",
      "  Message: b'CONVERGENCE: REL_REDUCTION_OF_F_<=_FACTR*EPSMCH'\n",
      "  Objective function value: 3567267.928037\n",
      "  Number of iterations: 22\n",
      "  Number of functions evaluations: 24\n"
     ]
    },
    {
     "name": "stdout",
     "output_type": "stream",
     "text": [
      "UPDATING HYPERPARAMETERS\n",
      "UPDATING ASSIGNMENTS\n",
      "0.006897567866353668\n",
      "SAVING:  ../output/K2_L10\n",
      "UPDATING TRAJECTORIES\n",
      "INFO:tensorflow:Optimization terminated with:\n",
      "  Message: b'CONVERGENCE: REL_REDUCTION_OF_F_<=_FACTR*EPSMCH'\n",
      "  Objective function value: 3583053.435143\n",
      "  Number of iterations: 40\n",
      "  Number of functions evaluations: 44\n"
     ]
    },
    {
     "name": "stderr",
     "output_type": "stream",
     "text": [
      "INFO:tensorflow:Optimization terminated with:\n",
      "  Message: b'CONVERGENCE: REL_REDUCTION_OF_F_<=_FACTR*EPSMCH'\n",
      "  Objective function value: 3583053.435143\n",
      "  Number of iterations: 40\n",
      "  Number of functions evaluations: 44\n"
     ]
    },
    {
     "name": "stdout",
     "output_type": "stream",
     "text": [
      "UPDATING HYPERPARAMETERS\n",
      "UPDATING ASSIGNMENTS\n",
      "0.09137056635505811\n",
      "SAVING:  ../output/K2_L10\n",
      "UPDATING TRAJECTORIES\n",
      "INFO:tensorflow:Optimization terminated with:\n",
      "  Message: b'CONVERGENCE: REL_REDUCTION_OF_F_<=_FACTR*EPSMCH'\n",
      "  Objective function value: 3581565.518948\n",
      "  Number of iterations: 30\n",
      "  Number of functions evaluations: 32\n"
     ]
    },
    {
     "name": "stderr",
     "output_type": "stream",
     "text": [
      "INFO:tensorflow:Optimization terminated with:\n",
      "  Message: b'CONVERGENCE: REL_REDUCTION_OF_F_<=_FACTR*EPSMCH'\n",
      "  Objective function value: 3581565.518948\n",
      "  Number of iterations: 30\n",
      "  Number of functions evaluations: 32\n"
     ]
    },
    {
     "name": "stdout",
     "output_type": "stream",
     "text": [
      "UPDATING HYPERPARAMETERS\n",
      "UPDATING ASSIGNMENTS\n",
      "0.016152328567801872\n",
      "SAVING:  ../output/K2_L10\n",
      "UPDATING TRAJECTORIES\n",
      "INFO:tensorflow:Optimization terminated with:\n",
      "  Message: b'CONVERGENCE: REL_REDUCTION_OF_F_<=_FACTR*EPSMCH'\n",
      "  Objective function value: 3575887.734762\n",
      "  Number of iterations: 20\n",
      "  Number of functions evaluations: 22\n"
     ]
    },
    {
     "name": "stderr",
     "output_type": "stream",
     "text": [
      "INFO:tensorflow:Optimization terminated with:\n",
      "  Message: b'CONVERGENCE: REL_REDUCTION_OF_F_<=_FACTR*EPSMCH'\n",
      "  Objective function value: 3575887.734762\n",
      "  Number of iterations: 20\n",
      "  Number of functions evaluations: 22\n"
     ]
    },
    {
     "name": "stdout",
     "output_type": "stream",
     "text": [
      "UPDATING HYPERPARAMETERS\n",
      "UPDATING ASSIGNMENTS\n",
      "0.0031663082294964323\n",
      "SAVING:  ../output/K2_L10\n",
      "UPDATING TRAJECTORIES\n",
      "INFO:tensorflow:Optimization terminated with:\n",
      "  Message: b'CONVERGENCE: REL_REDUCTION_OF_F_<=_FACTR*EPSMCH'\n",
      "  Objective function value: 3561442.961471\n",
      "  Number of iterations: 24\n",
      "  Number of functions evaluations: 27\n"
     ]
    },
    {
     "name": "stderr",
     "output_type": "stream",
     "text": [
      "INFO:tensorflow:Optimization terminated with:\n",
      "  Message: b'CONVERGENCE: REL_REDUCTION_OF_F_<=_FACTR*EPSMCH'\n",
      "  Objective function value: 3561442.961471\n",
      "  Number of iterations: 24\n",
      "  Number of functions evaluations: 27\n"
     ]
    },
    {
     "name": "stdout",
     "output_type": "stream",
     "text": [
      "UPDATING HYPERPARAMETERS\n",
      "UPDATING ASSIGNMENTS\n",
      "0.00809939939812853\n",
      "SAVING:  ../output/K2_L10\n",
      "UPDATING TRAJECTORIES\n",
      "INFO:tensorflow:Optimization terminated with:\n",
      "  Message: b'CONVERGENCE: REL_REDUCTION_OF_F_<=_FACTR*EPSMCH'\n",
      "  Objective function value: 3572960.067632\n",
      "  Number of iterations: 32\n",
      "  Number of functions evaluations: 35\n"
     ]
    },
    {
     "name": "stderr",
     "output_type": "stream",
     "text": [
      "INFO:tensorflow:Optimization terminated with:\n",
      "  Message: b'CONVERGENCE: REL_REDUCTION_OF_F_<=_FACTR*EPSMCH'\n",
      "  Objective function value: 3572960.067632\n",
      "  Number of iterations: 32\n",
      "  Number of functions evaluations: 35\n"
     ]
    },
    {
     "name": "stdout",
     "output_type": "stream",
     "text": [
      "UPDATING HYPERPARAMETERS\n",
      "UPDATING ASSIGNMENTS\n",
      "0.03246785290702048\n",
      "SAVING:  ../output/K2_L10\n",
      "UPDATING TRAJECTORIES\n",
      "INFO:tensorflow:Optimization terminated with:\n",
      "  Message: b'CONVERGENCE: REL_REDUCTION_OF_F_<=_FACTR*EPSMCH'\n",
      "  Objective function value: 3563845.978826\n",
      "  Number of iterations: 30\n",
      "  Number of functions evaluations: 32\n"
     ]
    },
    {
     "name": "stderr",
     "output_type": "stream",
     "text": [
      "INFO:tensorflow:Optimization terminated with:\n",
      "  Message: b'CONVERGENCE: REL_REDUCTION_OF_F_<=_FACTR*EPSMCH'\n",
      "  Objective function value: 3563845.978826\n",
      "  Number of iterations: 30\n",
      "  Number of functions evaluations: 32\n"
     ]
    },
    {
     "name": "stdout",
     "output_type": "stream",
     "text": [
      "UPDATING HYPERPARAMETERS\n",
      "UPDATING ASSIGNMENTS\n",
      "0.024322082525118804\n",
      "SAVING:  ../output/K2_L10\n",
      "UPDATING TRAJECTORIES\n",
      "INFO:tensorflow:Optimization terminated with:\n",
      "  Message: b'CONVERGENCE: REL_REDUCTION_OF_F_<=_FACTR*EPSMCH'\n",
      "  Objective function value: 3560731.560338\n",
      "  Number of iterations: 13\n",
      "  Number of functions evaluations: 15\n"
     ]
    },
    {
     "name": "stderr",
     "output_type": "stream",
     "text": [
      "INFO:tensorflow:Optimization terminated with:\n",
      "  Message: b'CONVERGENCE: REL_REDUCTION_OF_F_<=_FACTR*EPSMCH'\n",
      "  Objective function value: 3560731.560338\n",
      "  Number of iterations: 13\n",
      "  Number of functions evaluations: 15\n"
     ]
    },
    {
     "name": "stdout",
     "output_type": "stream",
     "text": [
      "UPDATING HYPERPARAMETERS\n",
      "UPDATING ASSIGNMENTS\n",
      "0.002077994188185165\n",
      "SAVING:  ../output/K2_L10\n",
      "UPDATING TRAJECTORIES\n",
      "INFO:tensorflow:Optimization terminated with:\n",
      "  Message: b'CONVERGENCE: REL_REDUCTION_OF_F_<=_FACTR*EPSMCH'\n",
      "  Objective function value: 3561729.938114\n",
      "  Number of iterations: 22\n",
      "  Number of functions evaluations: 25\n"
     ]
    },
    {
     "name": "stderr",
     "output_type": "stream",
     "text": [
      "INFO:tensorflow:Optimization terminated with:\n",
      "  Message: b'CONVERGENCE: REL_REDUCTION_OF_F_<=_FACTR*EPSMCH'\n",
      "  Objective function value: 3561729.938114\n",
      "  Number of iterations: 22\n",
      "  Number of functions evaluations: 25\n"
     ]
    },
    {
     "name": "stdout",
     "output_type": "stream",
     "text": [
      "UPDATING HYPERPARAMETERS\n",
      "UPDATING ASSIGNMENTS\n",
      "0.006868472197546769\n",
      "SAVING:  ../output/K2_L10\n",
      "UPDATING TRAJECTORIES\n",
      "INFO:tensorflow:Optimization terminated with:\n",
      "  Message: b'CONVERGENCE: REL_REDUCTION_OF_F_<=_FACTR*EPSMCH'\n",
      "  Objective function value: 3528810.773440\n",
      "  Number of iterations: 41\n",
      "  Number of functions evaluations: 44\n"
     ]
    },
    {
     "name": "stderr",
     "output_type": "stream",
     "text": [
      "INFO:tensorflow:Optimization terminated with:\n",
      "  Message: b'CONVERGENCE: REL_REDUCTION_OF_F_<=_FACTR*EPSMCH'\n",
      "  Objective function value: 3528810.773440\n",
      "  Number of iterations: 41\n",
      "  Number of functions evaluations: 44\n"
     ]
    },
    {
     "name": "stdout",
     "output_type": "stream",
     "text": [
      "UPDATING HYPERPARAMETERS\n",
      "UPDATING ASSIGNMENTS\n",
      "0.054971231423086866\n",
      "SAVING:  ../output/K2_L10\n",
      "UPDATING TRAJECTORIES\n",
      "INFO:tensorflow:Optimization terminated with:\n",
      "  Message: b'CONVERGENCE: REL_REDUCTION_OF_F_<=_FACTR*EPSMCH'\n",
      "  Objective function value: 3526772.300054\n",
      "  Number of iterations: 21\n",
      "  Number of functions evaluations: 24\n"
     ]
    },
    {
     "name": "stderr",
     "output_type": "stream",
     "text": [
      "INFO:tensorflow:Optimization terminated with:\n",
      "  Message: b'CONVERGENCE: REL_REDUCTION_OF_F_<=_FACTR*EPSMCH'\n",
      "  Objective function value: 3526772.300054\n",
      "  Number of iterations: 21\n",
      "  Number of functions evaluations: 24\n"
     ]
    },
    {
     "name": "stdout",
     "output_type": "stream",
     "text": [
      "UPDATING HYPERPARAMETERS\n",
      "UPDATING ASSIGNMENTS\n",
      "0.005377382814741899\n",
      "SAVING:  ../output/K2_L10\n",
      "UPDATING TRAJECTORIES\n",
      "INFO:tensorflow:Optimization terminated with:\n",
      "  Message: b'CONVERGENCE: REL_REDUCTION_OF_F_<=_FACTR*EPSMCH'\n",
      "  Objective function value: 3509741.659215\n",
      "  Number of iterations: 26\n",
      "  Number of functions evaluations: 28\n"
     ]
    },
    {
     "name": "stderr",
     "output_type": "stream",
     "text": [
      "INFO:tensorflow:Optimization terminated with:\n",
      "  Message: b'CONVERGENCE: REL_REDUCTION_OF_F_<=_FACTR*EPSMCH'\n",
      "  Objective function value: 3509741.659215\n",
      "  Number of iterations: 26\n",
      "  Number of functions evaluations: 28\n"
     ]
    },
    {
     "name": "stdout",
     "output_type": "stream",
     "text": [
      "UPDATING HYPERPARAMETERS\n",
      "UPDATING ASSIGNMENTS\n",
      "0.016436585173965543\n",
      "SAVING:  ../output/K2_L10\n",
      "UPDATING TRAJECTORIES\n",
      "INFO:tensorflow:Optimization terminated with:\n",
      "  Message: b'CONVERGENCE: REL_REDUCTION_OF_F_<=_FACTR*EPSMCH'\n",
      "  Objective function value: 3503944.270214\n",
      "  Number of iterations: 33\n",
      "  Number of functions evaluations: 36\n"
     ]
    },
    {
     "name": "stderr",
     "output_type": "stream",
     "text": [
      "INFO:tensorflow:Optimization terminated with:\n",
      "  Message: b'CONVERGENCE: REL_REDUCTION_OF_F_<=_FACTR*EPSMCH'\n",
      "  Objective function value: 3503944.270214\n",
      "  Number of iterations: 33\n",
      "  Number of functions evaluations: 36\n"
     ]
    },
    {
     "name": "stdout",
     "output_type": "stream",
     "text": [
      "UPDATING HYPERPARAMETERS\n",
      "UPDATING ASSIGNMENTS\n",
      "0.028908952442436856\n",
      "SAVING:  ../output/K2_L10\n",
      "UPDATING TRAJECTORIES\n",
      "INFO:tensorflow:Optimization terminated with:\n",
      "  Message: b'CONVERGENCE: REL_REDUCTION_OF_F_<=_FACTR*EPSMCH'\n",
      "  Objective function value: 3488031.001025\n",
      "  Number of iterations: 31\n",
      "  Number of functions evaluations: 33\n"
     ]
    },
    {
     "name": "stderr",
     "output_type": "stream",
     "text": [
      "INFO:tensorflow:Optimization terminated with:\n",
      "  Message: b'CONVERGENCE: REL_REDUCTION_OF_F_<=_FACTR*EPSMCH'\n",
      "  Objective function value: 3488031.001025\n",
      "  Number of iterations: 31\n",
      "  Number of functions evaluations: 33\n"
     ]
    },
    {
     "name": "stdout",
     "output_type": "stream",
     "text": [
      "UPDATING HYPERPARAMETERS\n",
      "UPDATING ASSIGNMENTS\n",
      "0.02403784314264987\n",
      "SAVING:  ../output/K2_L10\n",
      "UPDATING TRAJECTORIES\n",
      "INFO:tensorflow:Optimization terminated with:\n",
      "  Message: b'CONVERGENCE: REL_REDUCTION_OF_F_<=_FACTR*EPSMCH'\n",
      "  Objective function value: 3468799.052963\n",
      "  Number of iterations: 15\n",
      "  Number of functions evaluations: 17\n"
     ]
    },
    {
     "name": "stderr",
     "output_type": "stream",
     "text": [
      "INFO:tensorflow:Optimization terminated with:\n",
      "  Message: b'CONVERGENCE: REL_REDUCTION_OF_F_<=_FACTR*EPSMCH'\n",
      "  Objective function value: 3468799.052963\n",
      "  Number of iterations: 15\n",
      "  Number of functions evaluations: 17\n"
     ]
    },
    {
     "name": "stdout",
     "output_type": "stream",
     "text": [
      "UPDATING HYPERPARAMETERS\n",
      "UPDATING ASSIGNMENTS\n",
      "0.0008305402885050729\n",
      "SAVING:  ../output/K2_L10\n",
      "UPDATING TRAJECTORIES\n",
      "INFO:tensorflow:Optimization terminated with:\n",
      "  Message: b'CONVERGENCE: REL_REDUCTION_OF_F_<=_FACTR*EPSMCH'\n",
      "  Objective function value: 3465411.308949\n",
      "  Number of iterations: 28\n",
      "  Number of functions evaluations: 31\n"
     ]
    },
    {
     "name": "stderr",
     "output_type": "stream",
     "text": [
      "INFO:tensorflow:Optimization terminated with:\n",
      "  Message: b'CONVERGENCE: REL_REDUCTION_OF_F_<=_FACTR*EPSMCH'\n",
      "  Objective function value: 3465411.308949\n",
      "  Number of iterations: 28\n",
      "  Number of functions evaluations: 31\n"
     ]
    },
    {
     "name": "stdout",
     "output_type": "stream",
     "text": [
      "UPDATING HYPERPARAMETERS\n",
      "UPDATING ASSIGNMENTS\n",
      "0.013488050894348094\n",
      "SAVING:  ../output/K2_L10\n",
      "UPDATING TRAJECTORIES\n",
      "INFO:tensorflow:Optimization terminated with:\n",
      "  Message: b'CONVERGENCE: REL_REDUCTION_OF_F_<=_FACTR*EPSMCH'\n",
      "  Objective function value: 3469134.132045\n",
      "  Number of iterations: 16\n",
      "  Number of functions evaluations: 18\n"
     ]
    },
    {
     "name": "stderr",
     "output_type": "stream",
     "text": [
      "INFO:tensorflow:Optimization terminated with:\n",
      "  Message: b'CONVERGENCE: REL_REDUCTION_OF_F_<=_FACTR*EPSMCH'\n",
      "  Objective function value: 3469134.132045\n",
      "  Number of iterations: 16\n",
      "  Number of functions evaluations: 18\n"
     ]
    },
    {
     "name": "stdout",
     "output_type": "stream",
     "text": [
      "UPDATING HYPERPARAMETERS\n",
      "UPDATING ASSIGNMENTS\n",
      "0.0015143376387480912\n",
      "SAVING:  ../output/K2_L10\n",
      "UPDATING TRAJECTORIES\n",
      "INFO:tensorflow:Optimization terminated with:\n",
      "  Message: b'CONVERGENCE: REL_REDUCTION_OF_F_<=_FACTR*EPSMCH'\n",
      "  Objective function value: 3459207.699218\n",
      "  Number of iterations: 24\n",
      "  Number of functions evaluations: 27\n"
     ]
    },
    {
     "name": "stderr",
     "output_type": "stream",
     "text": [
      "INFO:tensorflow:Optimization terminated with:\n",
      "  Message: b'CONVERGENCE: REL_REDUCTION_OF_F_<=_FACTR*EPSMCH'\n",
      "  Objective function value: 3459207.699218\n",
      "  Number of iterations: 24\n",
      "  Number of functions evaluations: 27\n"
     ]
    },
    {
     "name": "stdout",
     "output_type": "stream",
     "text": [
      "UPDATING HYPERPARAMETERS\n",
      "UPDATING ASSIGNMENTS\n",
      "0.0074092613488669495\n",
      "SAVING:  ../output/K2_L10\n",
      "UPDATING TRAJECTORIES\n",
      "INFO:tensorflow:Optimization terminated with:\n",
      "  Message: b'CONVERGENCE: REL_REDUCTION_OF_F_<=_FACTR*EPSMCH'\n",
      "  Objective function value: 3446022.015456\n",
      "  Number of iterations: 27\n",
      "  Number of functions evaluations: 29\n"
     ]
    },
    {
     "name": "stderr",
     "output_type": "stream",
     "text": [
      "INFO:tensorflow:Optimization terminated with:\n",
      "  Message: b'CONVERGENCE: REL_REDUCTION_OF_F_<=_FACTR*EPSMCH'\n",
      "  Objective function value: 3446022.015456\n",
      "  Number of iterations: 27\n",
      "  Number of functions evaluations: 29\n"
     ]
    },
    {
     "name": "stdout",
     "output_type": "stream",
     "text": [
      "UPDATING HYPERPARAMETERS\n",
      "UPDATING ASSIGNMENTS\n",
      "0.015706429722952962\n",
      "SAVING:  ../output/K2_L10\n",
      "UPDATING TRAJECTORIES\n",
      "INFO:tensorflow:Optimization terminated with:\n",
      "  Message: b'CONVERGENCE: REL_REDUCTION_OF_F_<=_FACTR*EPSMCH'\n",
      "  Objective function value: 3434696.638879\n",
      "  Number of iterations: 23\n",
      "  Number of functions evaluations: 25\n"
     ]
    },
    {
     "name": "stderr",
     "output_type": "stream",
     "text": [
      "INFO:tensorflow:Optimization terminated with:\n",
      "  Message: b'CONVERGENCE: REL_REDUCTION_OF_F_<=_FACTR*EPSMCH'\n",
      "  Objective function value: 3434696.638879\n",
      "  Number of iterations: 23\n",
      "  Number of functions evaluations: 25\n"
     ]
    },
    {
     "name": "stdout",
     "output_type": "stream",
     "text": [
      "UPDATING HYPERPARAMETERS\n",
      "UPDATING ASSIGNMENTS\n",
      "0.00436757034040235\n",
      "SAVING:  ../output/K2_L10\n",
      "UPDATING TRAJECTORIES\n",
      "INFO:tensorflow:Optimization terminated with:\n",
      "  Message: b'CONVERGENCE: REL_REDUCTION_OF_F_<=_FACTR*EPSMCH'\n",
      "  Objective function value: 3452553.224914\n",
      "  Number of iterations: 20\n",
      "  Number of functions evaluations: 22\n"
     ]
    },
    {
     "name": "stderr",
     "output_type": "stream",
     "text": [
      "INFO:tensorflow:Optimization terminated with:\n",
      "  Message: b'CONVERGENCE: REL_REDUCTION_OF_F_<=_FACTR*EPSMCH'\n",
      "  Objective function value: 3452553.224914\n",
      "  Number of iterations: 20\n",
      "  Number of functions evaluations: 22\n"
     ]
    },
    {
     "name": "stdout",
     "output_type": "stream",
     "text": [
      "UPDATING HYPERPARAMETERS\n",
      "UPDATING ASSIGNMENTS\n",
      "0.003355461357938819\n",
      "SAVING:  ../output/K2_L10\n",
      "UPDATING TRAJECTORIES\n",
      "INFO:tensorflow:Optimization terminated with:\n",
      "  Message: b'CONVERGENCE: REL_REDUCTION_OF_F_<=_FACTR*EPSMCH'\n",
      "  Objective function value: 3443992.437987\n",
      "  Number of iterations: 16\n",
      "  Number of functions evaluations: 18\n"
     ]
    },
    {
     "name": "stderr",
     "output_type": "stream",
     "text": [
      "INFO:tensorflow:Optimization terminated with:\n",
      "  Message: b'CONVERGENCE: REL_REDUCTION_OF_F_<=_FACTR*EPSMCH'\n",
      "  Objective function value: 3443992.437987\n",
      "  Number of iterations: 16\n",
      "  Number of functions evaluations: 18\n"
     ]
    },
    {
     "name": "stdout",
     "output_type": "stream",
     "text": [
      "UPDATING HYPERPARAMETERS\n",
      "UPDATING ASSIGNMENTS\n",
      "0.001651824688063497\n",
      "SAVING:  ../output/K2_L10\n",
      "UPDATING TRAJECTORIES\n",
      "INFO:tensorflow:Optimization terminated with:\n",
      "  Message: b'CONVERGENCE: REL_REDUCTION_OF_F_<=_FACTR*EPSMCH'\n",
      "  Objective function value: 3449097.876255\n",
      "  Number of iterations: 38\n",
      "  Number of functions evaluations: 41\n"
     ]
    },
    {
     "name": "stderr",
     "output_type": "stream",
     "text": [
      "INFO:tensorflow:Optimization terminated with:\n",
      "  Message: b'CONVERGENCE: REL_REDUCTION_OF_F_<=_FACTR*EPSMCH'\n",
      "  Objective function value: 3449097.876255\n",
      "  Number of iterations: 38\n",
      "  Number of functions evaluations: 41\n"
     ]
    },
    {
     "name": "stdout",
     "output_type": "stream",
     "text": [
      "UPDATING HYPERPARAMETERS\n",
      "UPDATING ASSIGNMENTS\n",
      "0.035029770791091264\n",
      "SAVING:  ../output/K2_L10\n",
      "UPDATING TRAJECTORIES\n",
      "INFO:tensorflow:Optimization terminated with:\n",
      "  Message: b'CONVERGENCE: REL_REDUCTION_OF_F_<=_FACTR*EPSMCH'\n",
      "  Objective function value: 3459442.788817\n",
      "  Number of iterations: 31\n",
      "  Number of functions evaluations: 33\n"
     ]
    },
    {
     "name": "stderr",
     "output_type": "stream",
     "text": [
      "INFO:tensorflow:Optimization terminated with:\n",
      "  Message: b'CONVERGENCE: REL_REDUCTION_OF_F_<=_FACTR*EPSMCH'\n",
      "  Objective function value: 3459442.788817\n",
      "  Number of iterations: 31\n",
      "  Number of functions evaluations: 33\n"
     ]
    },
    {
     "name": "stdout",
     "output_type": "stream",
     "text": [
      "UPDATING HYPERPARAMETERS\n",
      "UPDATING ASSIGNMENTS\n",
      "0.013252502737666996\n",
      "SAVING:  ../output/K2_L10\n",
      "UPDATING TRAJECTORIES\n",
      "INFO:tensorflow:Optimization terminated with:\n",
      "  Message: b'CONVERGENCE: REL_REDUCTION_OF_F_<=_FACTR*EPSMCH'\n",
      "  Objective function value: 3444627.723881\n",
      "  Number of iterations: 22\n",
      "  Number of functions evaluations: 24\n"
     ]
    },
    {
     "name": "stderr",
     "output_type": "stream",
     "text": [
      "INFO:tensorflow:Optimization terminated with:\n",
      "  Message: b'CONVERGENCE: REL_REDUCTION_OF_F_<=_FACTR*EPSMCH'\n",
      "  Objective function value: 3444627.723881\n",
      "  Number of iterations: 22\n",
      "  Number of functions evaluations: 24\n"
     ]
    },
    {
     "name": "stdout",
     "output_type": "stream",
     "text": [
      "UPDATING HYPERPARAMETERS\n",
      "UPDATING ASSIGNMENTS\n",
      "0.015684050632468766\n",
      "SAVING:  ../output/K2_L10\n",
      "UPDATING TRAJECTORIES\n",
      "INFO:tensorflow:Optimization terminated with:\n",
      "  Message: b'CONVERGENCE: REL_REDUCTION_OF_F_<=_FACTR*EPSMCH'\n",
      "  Objective function value: 3480904.325066\n",
      "  Number of iterations: 41\n",
      "  Number of functions evaluations: 44\n"
     ]
    },
    {
     "name": "stderr",
     "output_type": "stream",
     "text": [
      "INFO:tensorflow:Optimization terminated with:\n",
      "  Message: b'CONVERGENCE: REL_REDUCTION_OF_F_<=_FACTR*EPSMCH'\n",
      "  Objective function value: 3480904.325066\n",
      "  Number of iterations: 41\n",
      "  Number of functions evaluations: 44\n"
     ]
    },
    {
     "name": "stdout",
     "output_type": "stream",
     "text": [
      "UPDATING HYPERPARAMETERS\n",
      "UPDATING ASSIGNMENTS\n",
      "0.053917529928234426\n",
      "SAVING:  ../output/K2_L10\n",
      "UPDATING TRAJECTORIES\n",
      "INFO:tensorflow:Optimization terminated with:\n",
      "  Message: b'CONVERGENCE: REL_REDUCTION_OF_F_<=_FACTR*EPSMCH'\n",
      "  Objective function value: 3476770.073700\n",
      "  Number of iterations: 25\n",
      "  Number of functions evaluations: 28\n"
     ]
    },
    {
     "name": "stderr",
     "output_type": "stream",
     "text": [
      "INFO:tensorflow:Optimization terminated with:\n",
      "  Message: b'CONVERGENCE: REL_REDUCTION_OF_F_<=_FACTR*EPSMCH'\n",
      "  Objective function value: 3476770.073700\n",
      "  Number of iterations: 25\n",
      "  Number of functions evaluations: 28\n"
     ]
    },
    {
     "name": "stdout",
     "output_type": "stream",
     "text": [
      "UPDATING HYPERPARAMETERS\n",
      "UPDATING ASSIGNMENTS\n",
      "0.006780051865044357\n",
      "SAVING:  ../output/K2_L10\n",
      "UPDATING TRAJECTORIES\n",
      "INFO:tensorflow:Optimization terminated with:\n",
      "  Message: b'CONVERGENCE: REL_REDUCTION_OF_F_<=_FACTR*EPSMCH'\n",
      "  Objective function value: 3477311.439628\n",
      "  Number of iterations: 15\n",
      "  Number of functions evaluations: 17\n"
     ]
    },
    {
     "name": "stderr",
     "output_type": "stream",
     "text": [
      "INFO:tensorflow:Optimization terminated with:\n",
      "  Message: b'CONVERGENCE: REL_REDUCTION_OF_F_<=_FACTR*EPSMCH'\n",
      "  Objective function value: 3477311.439628\n",
      "  Number of iterations: 15\n",
      "  Number of functions evaluations: 17\n"
     ]
    },
    {
     "name": "stdout",
     "output_type": "stream",
     "text": [
      "UPDATING HYPERPARAMETERS\n",
      "UPDATING ASSIGNMENTS\n",
      "0.000957477840636548\n",
      "SAVING:  ../output/K2_L10\n",
      "UPDATING TRAJECTORIES\n",
      "INFO:tensorflow:Optimization terminated with:\n",
      "  Message: b'CONVERGENCE: REL_REDUCTION_OF_F_<=_FACTR*EPSMCH'\n",
      "  Objective function value: 3520543.331133\n",
      "  Number of iterations: 22\n",
      "  Number of functions evaluations: 25\n"
     ]
    },
    {
     "name": "stderr",
     "output_type": "stream",
     "text": [
      "INFO:tensorflow:Optimization terminated with:\n",
      "  Message: b'CONVERGENCE: REL_REDUCTION_OF_F_<=_FACTR*EPSMCH'\n",
      "  Objective function value: 3520543.331133\n",
      "  Number of iterations: 22\n",
      "  Number of functions evaluations: 25\n"
     ]
    },
    {
     "name": "stdout",
     "output_type": "stream",
     "text": [
      "UPDATING HYPERPARAMETERS\n",
      "UPDATING ASSIGNMENTS\n",
      "0.006063019489291132\n",
      "SAVING:  ../output/K2_L10\n",
      "UPDATING TRAJECTORIES\n",
      "INFO:tensorflow:Optimization terminated with:\n",
      "  Message: b'CONVERGENCE: REL_REDUCTION_OF_F_<=_FACTR*EPSMCH'\n",
      "  Objective function value: 3536053.305304\n",
      "  Number of iterations: 18\n",
      "  Number of functions evaluations: 21\n"
     ]
    },
    {
     "name": "stderr",
     "output_type": "stream",
     "text": [
      "INFO:tensorflow:Optimization terminated with:\n",
      "  Message: b'CONVERGENCE: REL_REDUCTION_OF_F_<=_FACTR*EPSMCH'\n",
      "  Objective function value: 3536053.305304\n",
      "  Number of iterations: 18\n",
      "  Number of functions evaluations: 21\n"
     ]
    },
    {
     "name": "stdout",
     "output_type": "stream",
     "text": [
      "UPDATING HYPERPARAMETERS\n",
      "UPDATING ASSIGNMENTS\n",
      "0.004834515441269557\n",
      "SAVING:  ../output/K2_L10\n",
      "UPDATING TRAJECTORIES\n",
      "INFO:tensorflow:Optimization terminated with:\n",
      "  Message: b'CONVERGENCE: REL_REDUCTION_OF_F_<=_FACTR*EPSMCH'\n",
      "  Objective function value: 3549698.477988\n",
      "  Number of iterations: 28\n",
      "  Number of functions evaluations: 31\n"
     ]
    },
    {
     "name": "stderr",
     "output_type": "stream",
     "text": [
      "INFO:tensorflow:Optimization terminated with:\n",
      "  Message: b'CONVERGENCE: REL_REDUCTION_OF_F_<=_FACTR*EPSMCH'\n",
      "  Objective function value: 3549698.477988\n",
      "  Number of iterations: 28\n",
      "  Number of functions evaluations: 31\n"
     ]
    },
    {
     "name": "stdout",
     "output_type": "stream",
     "text": [
      "UPDATING HYPERPARAMETERS\n",
      "UPDATING ASSIGNMENTS\n",
      "0.014948056783047064\n",
      "SAVING:  ../output/K2_L10\n",
      "UPDATING TRAJECTORIES\n",
      "INFO:tensorflow:Optimization terminated with:\n",
      "  Message: b'CONVERGENCE: REL_REDUCTION_OF_F_<=_FACTR*EPSMCH'\n",
      "  Objective function value: 3566266.297148\n",
      "  Number of iterations: 32\n",
      "  Number of functions evaluations: 34\n"
     ]
    },
    {
     "name": "stderr",
     "output_type": "stream",
     "text": [
      "INFO:tensorflow:Optimization terminated with:\n",
      "  Message: b'CONVERGENCE: REL_REDUCTION_OF_F_<=_FACTR*EPSMCH'\n",
      "  Objective function value: 3566266.297148\n",
      "  Number of iterations: 32\n",
      "  Number of functions evaluations: 34\n"
     ]
    },
    {
     "name": "stdout",
     "output_type": "stream",
     "text": [
      "UPDATING HYPERPARAMETERS\n",
      "UPDATING ASSIGNMENTS\n",
      "0.02307390506428022\n",
      "SAVING:  ../output/K2_L10\n",
      "UPDATING TRAJECTORIES\n",
      "INFO:tensorflow:Optimization terminated with:\n",
      "  Message: b'CONVERGENCE: REL_REDUCTION_OF_F_<=_FACTR*EPSMCH'\n",
      "  Objective function value: 3552972.135477\n",
      "  Number of iterations: 14\n",
      "  Number of functions evaluations: 17\n"
     ]
    },
    {
     "name": "stderr",
     "output_type": "stream",
     "text": [
      "INFO:tensorflow:Optimization terminated with:\n",
      "  Message: b'CONVERGENCE: REL_REDUCTION_OF_F_<=_FACTR*EPSMCH'\n",
      "  Objective function value: 3552972.135477\n",
      "  Number of iterations: 14\n",
      "  Number of functions evaluations: 17\n"
     ]
    },
    {
     "name": "stdout",
     "output_type": "stream",
     "text": [
      "UPDATING HYPERPARAMETERS\n",
      "UPDATING ASSIGNMENTS\n",
      "0.0009425460225534084\n",
      "SAVING:  ../output/K2_L10\n",
      "UPDATING TRAJECTORIES\n",
      "INFO:tensorflow:Optimization terminated with:\n",
      "  Message: b'CONVERGENCE: REL_REDUCTION_OF_F_<=_FACTR*EPSMCH'\n",
      "  Objective function value: 3581102.952005\n",
      "  Number of iterations: 16\n",
      "  Number of functions evaluations: 18\n"
     ]
    },
    {
     "name": "stderr",
     "output_type": "stream",
     "text": [
      "INFO:tensorflow:Optimization terminated with:\n",
      "  Message: b'CONVERGENCE: REL_REDUCTION_OF_F_<=_FACTR*EPSMCH'\n",
      "  Objective function value: 3581102.952005\n",
      "  Number of iterations: 16\n",
      "  Number of functions evaluations: 18\n"
     ]
    },
    {
     "name": "stdout",
     "output_type": "stream",
     "text": [
      "UPDATING HYPERPARAMETERS\n",
      "UPDATING ASSIGNMENTS\n",
      "0.002208666735485726\n",
      "SAVING:  ../output/K2_L10\n",
      "UPDATING TRAJECTORIES\n",
      "INFO:tensorflow:Optimization terminated with:\n",
      "  Message: b'CONVERGENCE: REL_REDUCTION_OF_F_<=_FACTR*EPSMCH'\n",
      "  Objective function value: 3570309.518682\n",
      "  Number of iterations: 24\n",
      "  Number of functions evaluations: 26\n"
     ]
    },
    {
     "name": "stderr",
     "output_type": "stream",
     "text": [
      "INFO:tensorflow:Optimization terminated with:\n",
      "  Message: b'CONVERGENCE: REL_REDUCTION_OF_F_<=_FACTR*EPSMCH'\n",
      "  Objective function value: 3570309.518682\n",
      "  Number of iterations: 24\n",
      "  Number of functions evaluations: 26\n"
     ]
    },
    {
     "name": "stdout",
     "output_type": "stream",
     "text": [
      "UPDATING HYPERPARAMETERS\n",
      "UPDATING ASSIGNMENTS\n",
      "0.007896124686967775\n",
      "SAVING:  ../output/K2_L10\n",
      "UPDATING TRAJECTORIES\n",
      "INFO:tensorflow:Optimization terminated with:\n",
      "  Message: b'CONVERGENCE: REL_REDUCTION_OF_F_<=_FACTR*EPSMCH'\n",
      "  Objective function value: 3558799.901426\n",
      "  Number of iterations: 11\n",
      "  Number of functions evaluations: 13\n"
     ]
    },
    {
     "name": "stderr",
     "output_type": "stream",
     "text": [
      "INFO:tensorflow:Optimization terminated with:\n",
      "  Message: b'CONVERGENCE: REL_REDUCTION_OF_F_<=_FACTR*EPSMCH'\n",
      "  Objective function value: 3558799.901426\n",
      "  Number of iterations: 11\n",
      "  Number of functions evaluations: 13\n"
     ]
    },
    {
     "name": "stdout",
     "output_type": "stream",
     "text": [
      "UPDATING HYPERPARAMETERS\n",
      "UPDATING ASSIGNMENTS\n",
      "0.0006716847660871157\n",
      "SAVING:  ../output/K2_L10\n",
      "UPDATING TRAJECTORIES\n",
      "INFO:tensorflow:Optimization terminated with:\n",
      "  Message: b'CONVERGENCE: REL_REDUCTION_OF_F_<=_FACTR*EPSMCH'\n",
      "  Objective function value: 3582440.402208\n",
      "  Number of iterations: 11\n",
      "  Number of functions evaluations: 13\n"
     ]
    },
    {
     "name": "stderr",
     "output_type": "stream",
     "text": [
      "INFO:tensorflow:Optimization terminated with:\n",
      "  Message: b'CONVERGENCE: REL_REDUCTION_OF_F_<=_FACTR*EPSMCH'\n",
      "  Objective function value: 3582440.402208\n",
      "  Number of iterations: 11\n",
      "  Number of functions evaluations: 13\n"
     ]
    },
    {
     "name": "stdout",
     "output_type": "stream",
     "text": [
      "UPDATING HYPERPARAMETERS\n",
      "UPDATING ASSIGNMENTS\n",
      "0.00037502393232275\n",
      "SAVING:  ../output/K2_L10\n",
      "UPDATING TRAJECTORIES\n",
      "INFO:tensorflow:Optimization terminated with:\n",
      "  Message: b'CONVERGENCE: REL_REDUCTION_OF_F_<=_FACTR*EPSMCH'\n",
      "  Objective function value: 3575175.705529\n",
      "  Number of iterations: 16\n",
      "  Number of functions evaluations: 18\n"
     ]
    },
    {
     "name": "stderr",
     "output_type": "stream",
     "text": [
      "INFO:tensorflow:Optimization terminated with:\n",
      "  Message: b'CONVERGENCE: REL_REDUCTION_OF_F_<=_FACTR*EPSMCH'\n",
      "  Objective function value: 3575175.705529\n",
      "  Number of iterations: 16\n",
      "  Number of functions evaluations: 18\n"
     ]
    },
    {
     "name": "stdout",
     "output_type": "stream",
     "text": [
      "UPDATING HYPERPARAMETERS\n",
      "UPDATING ASSIGNMENTS\n",
      "0.0017229502478422931\n",
      "SAVING:  ../output/K2_L10\n",
      "UPDATING TRAJECTORIES\n",
      "INFO:tensorflow:Optimization terminated with:\n",
      "  Message: b'CONVERGENCE: REL_REDUCTION_OF_F_<=_FACTR*EPSMCH'\n",
      "  Objective function value: 3550911.449385\n",
      "  Number of iterations: 25\n",
      "  Number of functions evaluations: 28\n"
     ]
    },
    {
     "name": "stderr",
     "output_type": "stream",
     "text": [
      "INFO:tensorflow:Optimization terminated with:\n",
      "  Message: b'CONVERGENCE: REL_REDUCTION_OF_F_<=_FACTR*EPSMCH'\n",
      "  Objective function value: 3550911.449385\n",
      "  Number of iterations: 25\n",
      "  Number of functions evaluations: 28\n"
     ]
    },
    {
     "name": "stdout",
     "output_type": "stream",
     "text": [
      "UPDATING HYPERPARAMETERS\n",
      "UPDATING ASSIGNMENTS\n",
      "0.006592683754452478\n",
      "SAVING:  ../output/K2_L10\n",
      "UPDATING TRAJECTORIES\n",
      "INFO:tensorflow:Optimization terminated with:\n",
      "  Message: b'CONVERGENCE: REL_REDUCTION_OF_F_<=_FACTR*EPSMCH'\n",
      "  Objective function value: 3570409.550752\n",
      "  Number of iterations: 20\n",
      "  Number of functions evaluations: 22\n"
     ]
    },
    {
     "name": "stderr",
     "output_type": "stream",
     "text": [
      "INFO:tensorflow:Optimization terminated with:\n",
      "  Message: b'CONVERGENCE: REL_REDUCTION_OF_F_<=_FACTR*EPSMCH'\n",
      "  Objective function value: 3570409.550752\n",
      "  Number of iterations: 20\n",
      "  Number of functions evaluations: 22\n"
     ]
    },
    {
     "name": "stdout",
     "output_type": "stream",
     "text": [
      "UPDATING HYPERPARAMETERS\n",
      "UPDATING ASSIGNMENTS\n",
      "0.005940179947472305\n",
      "SAVING:  ../output/K2_L10\n",
      "UPDATING TRAJECTORIES\n",
      "INFO:tensorflow:Optimization terminated with:\n",
      "  Message: b'CONVERGENCE: REL_REDUCTION_OF_F_<=_FACTR*EPSMCH'\n",
      "  Objective function value: 3541275.730973\n",
      "  Number of iterations: 33\n",
      "  Number of functions evaluations: 35\n"
     ]
    },
    {
     "name": "stderr",
     "output_type": "stream",
     "text": [
      "INFO:tensorflow:Optimization terminated with:\n",
      "  Message: b'CONVERGENCE: REL_REDUCTION_OF_F_<=_FACTR*EPSMCH'\n",
      "  Objective function value: 3541275.730973\n",
      "  Number of iterations: 33\n",
      "  Number of functions evaluations: 35\n"
     ]
    },
    {
     "name": "stdout",
     "output_type": "stream",
     "text": [
      "UPDATING HYPERPARAMETERS\n",
      "UPDATING ASSIGNMENTS\n",
      "0.05946104685944441\n",
      "SAVING:  ../output/K2_L10\n",
      "UPDATING TRAJECTORIES\n",
      "INFO:tensorflow:Optimization terminated with:\n",
      "  Message: b'CONVERGENCE: REL_REDUCTION_OF_F_<=_FACTR*EPSMCH'\n",
      "  Objective function value: 3529326.041697\n",
      "  Number of iterations: 26\n",
      "  Number of functions evaluations: 29\n"
     ]
    },
    {
     "name": "stderr",
     "output_type": "stream",
     "text": [
      "INFO:tensorflow:Optimization terminated with:\n",
      "  Message: b'CONVERGENCE: REL_REDUCTION_OF_F_<=_FACTR*EPSMCH'\n",
      "  Objective function value: 3529326.041697\n",
      "  Number of iterations: 26\n",
      "  Number of functions evaluations: 29\n"
     ]
    },
    {
     "name": "stdout",
     "output_type": "stream",
     "text": [
      "UPDATING HYPERPARAMETERS\n",
      "UPDATING ASSIGNMENTS\n",
      "0.01634219907817263\n",
      "SAVING:  ../output/K2_L10\n",
      "UPDATING TRAJECTORIES\n",
      "INFO:tensorflow:Optimization terminated with:\n",
      "  Message: b'CONVERGENCE: REL_REDUCTION_OF_F_<=_FACTR*EPSMCH'\n",
      "  Objective function value: 3507523.689852\n",
      "  Number of iterations: 15\n",
      "  Number of functions evaluations: 17\n"
     ]
    },
    {
     "name": "stderr",
     "output_type": "stream",
     "text": [
      "INFO:tensorflow:Optimization terminated with:\n",
      "  Message: b'CONVERGENCE: REL_REDUCTION_OF_F_<=_FACTR*EPSMCH'\n",
      "  Objective function value: 3507523.689852\n",
      "  Number of iterations: 15\n",
      "  Number of functions evaluations: 17\n"
     ]
    },
    {
     "name": "stdout",
     "output_type": "stream",
     "text": [
      "UPDATING HYPERPARAMETERS\n",
      "UPDATING ASSIGNMENTS\n",
      "0.001900453434834441\n",
      "SAVING:  ../output/K2_L10\n",
      "UPDATING TRAJECTORIES\n",
      "INFO:tensorflow:Optimization terminated with:\n",
      "  Message: b'CONVERGENCE: REL_REDUCTION_OF_F_<=_FACTR*EPSMCH'\n",
      "  Objective function value: 3509456.790754\n",
      "  Number of iterations: 12\n",
      "  Number of functions evaluations: 14\n"
     ]
    },
    {
     "name": "stderr",
     "output_type": "stream",
     "text": [
      "INFO:tensorflow:Optimization terminated with:\n",
      "  Message: b'CONVERGENCE: REL_REDUCTION_OF_F_<=_FACTR*EPSMCH'\n",
      "  Objective function value: 3509456.790754\n",
      "  Number of iterations: 12\n",
      "  Number of functions evaluations: 14\n"
     ]
    },
    {
     "name": "stdout",
     "output_type": "stream",
     "text": [
      "UPDATING HYPERPARAMETERS\n",
      "UPDATING ASSIGNMENTS\n",
      "0.0004985817108526889\n",
      "SAVING:  ../output/K2_L10\n",
      "UPDATING TRAJECTORIES\n",
      "INFO:tensorflow:Optimization terminated with:\n",
      "  Message: b'CONVERGENCE: REL_REDUCTION_OF_F_<=_FACTR*EPSMCH'\n",
      "  Objective function value: 3494671.555864\n",
      "  Number of iterations: 25\n",
      "  Number of functions evaluations: 28\n"
     ]
    },
    {
     "name": "stderr",
     "output_type": "stream",
     "text": [
      "INFO:tensorflow:Optimization terminated with:\n",
      "  Message: b'CONVERGENCE: REL_REDUCTION_OF_F_<=_FACTR*EPSMCH'\n",
      "  Objective function value: 3494671.555864\n",
      "  Number of iterations: 25\n",
      "  Number of functions evaluations: 28\n"
     ]
    },
    {
     "name": "stdout",
     "output_type": "stream",
     "text": [
      "UPDATING HYPERPARAMETERS\n",
      "UPDATING ASSIGNMENTS\n",
      "0.007840048638685388\n",
      "SAVING:  ../output/K2_L10\n",
      "UPDATING TRAJECTORIES\n",
      "INFO:tensorflow:Optimization terminated with:\n",
      "  Message: b'CONVERGENCE: REL_REDUCTION_OF_F_<=_FACTR*EPSMCH'\n",
      "  Objective function value: 3473056.188034\n",
      "  Number of iterations: 11\n",
      "  Number of functions evaluations: 13\n"
     ]
    },
    {
     "name": "stderr",
     "output_type": "stream",
     "text": [
      "INFO:tensorflow:Optimization terminated with:\n",
      "  Message: b'CONVERGENCE: REL_REDUCTION_OF_F_<=_FACTR*EPSMCH'\n",
      "  Objective function value: 3473056.188034\n",
      "  Number of iterations: 11\n",
      "  Number of functions evaluations: 13\n"
     ]
    },
    {
     "name": "stdout",
     "output_type": "stream",
     "text": [
      "UPDATING HYPERPARAMETERS\n",
      "UPDATING ASSIGNMENTS\n",
      "0.0006210770520697064\n",
      "SAVING:  ../output/K2_L10\n",
      "UPDATING TRAJECTORIES\n",
      "INFO:tensorflow:Optimization terminated with:\n",
      "  Message: b'CONVERGENCE: REL_REDUCTION_OF_F_<=_FACTR*EPSMCH'\n",
      "  Objective function value: 3472995.060791\n",
      "  Number of iterations: 15\n",
      "  Number of functions evaluations: 17\n"
     ]
    },
    {
     "name": "stderr",
     "output_type": "stream",
     "text": [
      "INFO:tensorflow:Optimization terminated with:\n",
      "  Message: b'CONVERGENCE: REL_REDUCTION_OF_F_<=_FACTR*EPSMCH'\n",
      "  Objective function value: 3472995.060791\n",
      "  Number of iterations: 15\n",
      "  Number of functions evaluations: 17\n"
     ]
    },
    {
     "name": "stdout",
     "output_type": "stream",
     "text": [
      "UPDATING HYPERPARAMETERS\n",
      "UPDATING ASSIGNMENTS\n",
      "0.0010294723183724417\n",
      "SAVING:  ../output/K2_L10\n",
      "UPDATING TRAJECTORIES\n",
      "INFO:tensorflow:Optimization terminated with:\n",
      "  Message: b'CONVERGENCE: REL_REDUCTION_OF_F_<=_FACTR*EPSMCH'\n",
      "  Objective function value: 3460959.345051\n",
      "  Number of iterations: 18\n",
      "  Number of functions evaluations: 20\n"
     ]
    },
    {
     "name": "stderr",
     "output_type": "stream",
     "text": [
      "INFO:tensorflow:Optimization terminated with:\n",
      "  Message: b'CONVERGENCE: REL_REDUCTION_OF_F_<=_FACTR*EPSMCH'\n",
      "  Objective function value: 3460959.345051\n",
      "  Number of iterations: 18\n",
      "  Number of functions evaluations: 20\n"
     ]
    },
    {
     "name": "stdout",
     "output_type": "stream",
     "text": [
      "UPDATING HYPERPARAMETERS\n",
      "UPDATING ASSIGNMENTS\n",
      "0.0027811413219575283\n",
      "SAVING:  ../output/K2_L10\n",
      "UPDATING TRAJECTORIES\n",
      "INFO:tensorflow:Optimization terminated with:\n",
      "  Message: b'CONVERGENCE: REL_REDUCTION_OF_F_<=_FACTR*EPSMCH'\n",
      "  Objective function value: 3465190.921092\n",
      "  Number of iterations: 19\n",
      "  Number of functions evaluations: 21\n"
     ]
    },
    {
     "name": "stderr",
     "output_type": "stream",
     "text": [
      "INFO:tensorflow:Optimization terminated with:\n",
      "  Message: b'CONVERGENCE: REL_REDUCTION_OF_F_<=_FACTR*EPSMCH'\n",
      "  Objective function value: 3465190.921092\n",
      "  Number of iterations: 19\n",
      "  Number of functions evaluations: 21\n"
     ]
    },
    {
     "name": "stdout",
     "output_type": "stream",
     "text": [
      "UPDATING HYPERPARAMETERS\n",
      "UPDATING ASSIGNMENTS\n",
      "0.007677836313198032\n",
      "SAVING:  ../output/K2_L10\n",
      "UPDATING TRAJECTORIES\n",
      "INFO:tensorflow:Optimization terminated with:\n",
      "  Message: b'CONVERGENCE: REL_REDUCTION_OF_F_<=_FACTR*EPSMCH'\n",
      "  Objective function value: 3445794.286351\n",
      "  Number of iterations: 22\n",
      "  Number of functions evaluations: 25\n"
     ]
    },
    {
     "name": "stderr",
     "output_type": "stream",
     "text": [
      "INFO:tensorflow:Optimization terminated with:\n",
      "  Message: b'CONVERGENCE: REL_REDUCTION_OF_F_<=_FACTR*EPSMCH'\n",
      "  Objective function value: 3445794.286351\n",
      "  Number of iterations: 22\n",
      "  Number of functions evaluations: 25\n"
     ]
    },
    {
     "name": "stdout",
     "output_type": "stream",
     "text": [
      "UPDATING HYPERPARAMETERS\n",
      "UPDATING ASSIGNMENTS\n",
      "0.009259077012134116\n",
      "SAVING:  ../output/K2_L10\n",
      "UPDATING TRAJECTORIES\n",
      "INFO:tensorflow:Optimization terminated with:\n",
      "  Message: b'CONVERGENCE: REL_REDUCTION_OF_F_<=_FACTR*EPSMCH'\n",
      "  Objective function value: 3448440.954321\n",
      "  Number of iterations: 8\n",
      "  Number of functions evaluations: 10\n"
     ]
    },
    {
     "name": "stderr",
     "output_type": "stream",
     "text": [
      "INFO:tensorflow:Optimization terminated with:\n",
      "  Message: b'CONVERGENCE: REL_REDUCTION_OF_F_<=_FACTR*EPSMCH'\n",
      "  Objective function value: 3448440.954321\n",
      "  Number of iterations: 8\n",
      "  Number of functions evaluations: 10\n"
     ]
    },
    {
     "name": "stdout",
     "output_type": "stream",
     "text": [
      "UPDATING HYPERPARAMETERS\n"
     ]
    }
   ],
   "source": [
    "logger = train_mixsvgp(m, m_bar, assignments, x, y, n_iter, save_path)"
   ]
  },
  {
   "cell_type": "code",
   "execution_count": 5,
   "metadata": {},
   "outputs": [
    {
     "data": {
      "text/plain": [
       "array([ 7., 12.])"
      ]
     },
     "execution_count": 5,
     "metadata": {},
     "output_type": "execute_result"
    }
   ],
   "source": [
    "assignments.Phi.sum(0)"
   ]
  },
  {
   "cell_type": "code",
   "execution_count": 6,
   "metadata": {},
   "outputs": [
    {
     "data": {
      "text/plain": [
       "array([ 530.65928622,  763.19587864,  765.14014561, 1339.51109474,\n",
       "        259.02414903,  425.27651411,  594.36662502,  459.70937527,\n",
       "        599.19028085,  462.7032167 ,  399.83920273,  781.74631338,\n",
       "        365.32436209,  540.61914478,  617.26272761,  803.47962113,\n",
       "       2910.0691777 , 1970.33501879,  847.21004767,  884.33781794])"
      ]
     },
     "execution_count": 6,
     "metadata": {},
     "output_type": "execute_result"
    }
   ],
   "source": [
    "assignments.Lambda.sum(0)"
   ]
  }
 ],
 "metadata": {
  "kernelspec": {
   "display_name": "Python 3",
   "language": "python",
   "name": "python3"
  },
  "language_info": {
   "codemirror_mode": {
    "name": "ipython",
    "version": 3
   },
   "file_extension": ".py",
   "mimetype": "text/x-python",
   "name": "python",
   "nbconvert_exporter": "python",
   "pygments_lexer": "ipython3",
   "version": "3.7.1"
  }
 },
 "nbformat": 4,
 "nbformat_minor": 2
}
